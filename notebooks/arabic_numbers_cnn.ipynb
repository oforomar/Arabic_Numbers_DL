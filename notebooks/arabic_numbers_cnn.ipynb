{
 "cells": [
  {
   "cell_type": "code",
   "execution_count": 1,
   "metadata": {
    "execution": {
     "iopub.execute_input": "2022-04-17T19:28:16.163195Z",
     "iopub.status.busy": "2022-04-17T19:28:16.162982Z",
     "iopub.status.idle": "2022-04-17T19:28:16.170903Z",
     "shell.execute_reply": "2022-04-17T19:28:16.170142Z",
     "shell.execute_reply.started": "2022-04-17T19:28:16.163169Z"
    }
   },
   "outputs": [],
   "source": [
    "TRAIN_PATH = '../data/raw/train/'\n",
    "TEST_PATH  = '../data/raw/test/'"
   ]
  },
  {
   "cell_type": "code",
   "execution_count": 2,
   "metadata": {
    "execution": {
     "iopub.execute_input": "2022-04-17T19:28:16.490196Z",
     "iopub.status.busy": "2022-04-17T19:28:16.489906Z",
     "iopub.status.idle": "2022-04-17T19:28:20.015941Z",
     "shell.execute_reply": "2022-04-17T19:28:20.015195Z",
     "shell.execute_reply.started": "2022-04-17T19:28:16.490167Z"
    }
   },
   "outputs": [],
   "source": [
    "import cv2\n",
    "import pathlib\n",
    "import tensorflow as tf\n",
    "import numpy as np\n",
    "import pandas as pd\n",
    "import matplotlib.pyplot as plt"
   ]
  },
  {
   "cell_type": "code",
   "execution_count": 3,
   "metadata": {},
   "outputs": [],
   "source": [
    "pd.set_option('display.max_columns', 500)"
   ]
  },
  {
   "cell_type": "code",
   "execution_count": 4,
   "metadata": {
    "execution": {
     "iopub.execute_input": "2022-04-17T19:28:20.019980Z",
     "iopub.status.busy": "2022-04-17T19:28:20.019460Z",
     "iopub.status.idle": "2022-04-17T19:28:20.026063Z",
     "shell.execute_reply": "2022-04-17T19:28:20.025402Z",
     "shell.execute_reply.started": "2022-04-17T19:28:20.019940Z"
    }
   },
   "outputs": [],
   "source": [
    "def plotImages(images_arr):\n",
    "    fig, axes = plt.subplots(1, 10, figsize=(20,20))\n",
    "    axes = axes.flatten()\n",
    "    for img, ax in zip( images_arr, axes):\n",
    "        ax.imshow(img)\n",
    "        ax.axis('off')\n",
    "    plt.tight_layout()\n",
    "    plt.show()"
   ]
  },
  {
   "cell_type": "code",
   "execution_count": 5,
   "metadata": {
    "execution": {
     "iopub.execute_input": "2022-04-17T19:28:20.028075Z",
     "iopub.status.busy": "2022-04-17T19:28:20.027779Z",
     "iopub.status.idle": "2022-04-17T19:28:20.035520Z",
     "shell.execute_reply": "2022-04-17T19:28:20.033986Z",
     "shell.execute_reply.started": "2022-04-17T19:28:20.027995Z"
    }
   },
   "outputs": [],
   "source": [
    "data_dir = pathlib.Path(TRAIN_PATH)"
   ]
  },
  {
   "cell_type": "code",
   "execution_count": 6,
   "metadata": {
    "execution": {
     "iopub.execute_input": "2022-04-17T19:28:20.038905Z",
     "iopub.status.busy": "2022-04-17T19:28:20.038133Z",
     "iopub.status.idle": "2022-04-17T19:28:20.551131Z",
     "shell.execute_reply": "2022-04-17T19:28:20.550452Z",
     "shell.execute_reply.started": "2022-04-17T19:28:20.038866Z"
    }
   },
   "outputs": [
    {
     "name": "stdout",
     "output_type": "stream",
     "text": [
      "738 738\n",
      "636 1374\n",
      "621 1995\n",
      "582 2577\n",
      "379 2956\n",
      "427 3383\n",
      "389 3772\n",
      "394 4166\n",
      "463 4629\n"
     ]
    }
   ],
   "source": [
    "dfs = []\n",
    "total = 0\n",
    "\n",
    "for i in range(1,10):\n",
    "    image_path = pd.Series(list(data_dir.glob(f'{i}/*'))).astype(str)\n",
    "    \n",
    "    labels = pd.Series(np.full((len(image_path)), i))\n",
    "    \n",
    "    total += len(image_path)\n",
    "    print(len(image_path), total)\n",
    "    \n",
    "    dfs.append(pd.concat([image_path, labels], axis=1))"
   ]
  },
  {
   "cell_type": "code",
   "execution_count": 7,
   "metadata": {
    "execution": {
     "iopub.execute_input": "2022-04-17T19:28:20.553179Z",
     "iopub.status.busy": "2022-04-17T19:28:20.552435Z",
     "iopub.status.idle": "2022-04-17T19:28:20.561592Z",
     "shell.execute_reply": "2022-04-17T19:28:20.560740Z",
     "shell.execute_reply.started": "2022-04-17T19:28:20.553139Z"
    }
   },
   "outputs": [],
   "source": [
    "df = pd.concat(dfs, axis=0, ignore_index=True)"
   ]
  },
  {
   "cell_type": "code",
   "execution_count": 8,
   "metadata": {
    "execution": {
     "iopub.execute_input": "2022-04-17T19:28:20.563217Z",
     "iopub.status.busy": "2022-04-17T19:28:20.562863Z",
     "iopub.status.idle": "2022-04-17T19:28:20.567894Z",
     "shell.execute_reply": "2022-04-17T19:28:20.566956Z",
     "shell.execute_reply.started": "2022-04-17T19:28:20.563180Z"
    }
   },
   "outputs": [],
   "source": [
    "df.columns = ['image_path', 'label']"
   ]
  },
  {
   "cell_type": "code",
   "execution_count": 9,
   "metadata": {
    "execution": {
     "iopub.execute_input": "2022-04-17T19:28:20.570136Z",
     "iopub.status.busy": "2022-04-17T19:28:20.569174Z",
     "iopub.status.idle": "2022-04-17T19:28:20.576560Z",
     "shell.execute_reply": "2022-04-17T19:28:20.575827Z",
     "shell.execute_reply.started": "2022-04-17T19:28:20.570099Z"
    }
   },
   "outputs": [],
   "source": [
    "def read_shape(row):\n",
    "    # read image\n",
    "    img = cv2.imread(row[0], -1)\n",
    "    \n",
    "    # get shape\n",
    "    sh = img.shape\n",
    "    \n",
    "    return pd.Series(list(sh))"
   ]
  },
  {
   "cell_type": "code",
   "execution_count": 10,
   "metadata": {
    "execution": {
     "iopub.execute_input": "2022-04-17T19:28:38.800215Z",
     "iopub.status.busy": "2022-04-17T19:28:38.799959Z",
     "iopub.status.idle": "2022-04-17T19:28:43.561639Z",
     "shell.execute_reply": "2022-04-17T19:28:43.560860Z",
     "shell.execute_reply.started": "2022-04-17T19:28:38.800184Z"
    }
   },
   "outputs": [],
   "source": [
    "df[['height', 'width']] = df.apply(lambda row: read_shape(row), axis=1)"
   ]
  },
  {
   "cell_type": "code",
   "execution_count": 11,
   "metadata": {
    "execution": {
     "iopub.execute_input": "2022-04-17T19:28:45.918061Z",
     "iopub.status.busy": "2022-04-17T19:28:45.917528Z",
     "iopub.status.idle": "2022-04-17T19:28:45.922963Z",
     "shell.execute_reply": "2022-04-17T19:28:45.922197Z",
     "shell.execute_reply.started": "2022-04-17T19:28:45.918023Z"
    }
   },
   "outputs": [],
   "source": [
    "df['aspect ratio'] = df['width'] / df['height']"
   ]
  },
  {
   "cell_type": "code",
   "execution_count": 12,
   "metadata": {
    "execution": {
     "iopub.execute_input": "2022-04-17T19:28:46.289189Z",
     "iopub.status.busy": "2022-04-17T19:28:46.288488Z",
     "iopub.status.idle": "2022-04-17T19:28:46.394847Z",
     "shell.execute_reply": "2022-04-17T19:28:46.394198Z",
     "shell.execute_reply.started": "2022-04-17T19:28:46.289145Z"
    }
   },
   "outputs": [
    {
     "data": {
      "text/html": [
       "<div>\n",
       "<style scoped>\n",
       "    .dataframe tbody tr th:only-of-type {\n",
       "        vertical-align: middle;\n",
       "    }\n",
       "\n",
       "    .dataframe tbody tr th {\n",
       "        vertical-align: top;\n",
       "    }\n",
       "\n",
       "    .dataframe thead tr th {\n",
       "        text-align: left;\n",
       "    }\n",
       "\n",
       "    .dataframe thead tr:last-of-type th {\n",
       "        text-align: right;\n",
       "    }\n",
       "</style>\n",
       "<table border=\"1\" class=\"dataframe\">\n",
       "  <thead>\n",
       "    <tr>\n",
       "      <th></th>\n",
       "      <th colspan=\"8\" halign=\"left\">height</th>\n",
       "      <th colspan=\"8\" halign=\"left\">width</th>\n",
       "      <th colspan=\"8\" halign=\"left\">aspect ratio</th>\n",
       "    </tr>\n",
       "    <tr>\n",
       "      <th></th>\n",
       "      <th>count</th>\n",
       "      <th>mean</th>\n",
       "      <th>std</th>\n",
       "      <th>min</th>\n",
       "      <th>25%</th>\n",
       "      <th>50%</th>\n",
       "      <th>75%</th>\n",
       "      <th>max</th>\n",
       "      <th>count</th>\n",
       "      <th>mean</th>\n",
       "      <th>std</th>\n",
       "      <th>min</th>\n",
       "      <th>25%</th>\n",
       "      <th>50%</th>\n",
       "      <th>75%</th>\n",
       "      <th>max</th>\n",
       "      <th>count</th>\n",
       "      <th>mean</th>\n",
       "      <th>std</th>\n",
       "      <th>min</th>\n",
       "      <th>25%</th>\n",
       "      <th>50%</th>\n",
       "      <th>75%</th>\n",
       "      <th>max</th>\n",
       "    </tr>\n",
       "    <tr>\n",
       "      <th>label</th>\n",
       "      <th></th>\n",
       "      <th></th>\n",
       "      <th></th>\n",
       "      <th></th>\n",
       "      <th></th>\n",
       "      <th></th>\n",
       "      <th></th>\n",
       "      <th></th>\n",
       "      <th></th>\n",
       "      <th></th>\n",
       "      <th></th>\n",
       "      <th></th>\n",
       "      <th></th>\n",
       "      <th></th>\n",
       "      <th></th>\n",
       "      <th></th>\n",
       "      <th></th>\n",
       "      <th></th>\n",
       "      <th></th>\n",
       "      <th></th>\n",
       "      <th></th>\n",
       "      <th></th>\n",
       "      <th></th>\n",
       "      <th></th>\n",
       "    </tr>\n",
       "  </thead>\n",
       "  <tbody>\n",
       "    <tr>\n",
       "      <th>1</th>\n",
       "      <td>738.0</td>\n",
       "      <td>107.754743</td>\n",
       "      <td>14.261305</td>\n",
       "      <td>64.0</td>\n",
       "      <td>99.0</td>\n",
       "      <td>106.5</td>\n",
       "      <td>116.0</td>\n",
       "      <td>160.0</td>\n",
       "      <td>738.0</td>\n",
       "      <td>21.421409</td>\n",
       "      <td>4.361224</td>\n",
       "      <td>14.0</td>\n",
       "      <td>19.0</td>\n",
       "      <td>21.0</td>\n",
       "      <td>22.0</td>\n",
       "      <td>62.0</td>\n",
       "      <td>738.0</td>\n",
       "      <td>0.200587</td>\n",
       "      <td>0.038924</td>\n",
       "      <td>0.105960</td>\n",
       "      <td>0.180551</td>\n",
       "      <td>0.194915</td>\n",
       "      <td>0.210526</td>\n",
       "      <td>0.568807</td>\n",
       "    </tr>\n",
       "    <tr>\n",
       "      <th>2</th>\n",
       "      <td>636.0</td>\n",
       "      <td>110.062893</td>\n",
       "      <td>16.172373</td>\n",
       "      <td>53.0</td>\n",
       "      <td>99.0</td>\n",
       "      <td>108.0</td>\n",
       "      <td>118.0</td>\n",
       "      <td>179.0</td>\n",
       "      <td>636.0</td>\n",
       "      <td>36.773585</td>\n",
       "      <td>4.763278</td>\n",
       "      <td>21.0</td>\n",
       "      <td>34.0</td>\n",
       "      <td>36.0</td>\n",
       "      <td>39.0</td>\n",
       "      <td>61.0</td>\n",
       "      <td>636.0</td>\n",
       "      <td>0.338654</td>\n",
       "      <td>0.051445</td>\n",
       "      <td>0.175000</td>\n",
       "      <td>0.314683</td>\n",
       "      <td>0.339623</td>\n",
       "      <td>0.361702</td>\n",
       "      <td>0.698113</td>\n",
       "    </tr>\n",
       "    <tr>\n",
       "      <th>3</th>\n",
       "      <td>621.0</td>\n",
       "      <td>107.064412</td>\n",
       "      <td>14.092747</td>\n",
       "      <td>63.0</td>\n",
       "      <td>99.0</td>\n",
       "      <td>106.0</td>\n",
       "      <td>115.0</td>\n",
       "      <td>160.0</td>\n",
       "      <td>621.0</td>\n",
       "      <td>42.745572</td>\n",
       "      <td>4.590629</td>\n",
       "      <td>26.0</td>\n",
       "      <td>40.0</td>\n",
       "      <td>43.0</td>\n",
       "      <td>46.0</td>\n",
       "      <td>61.0</td>\n",
       "      <td>621.0</td>\n",
       "      <td>0.404506</td>\n",
       "      <td>0.059117</td>\n",
       "      <td>0.263566</td>\n",
       "      <td>0.371681</td>\n",
       "      <td>0.401869</td>\n",
       "      <td>0.429825</td>\n",
       "      <td>0.714286</td>\n",
       "    </tr>\n",
       "    <tr>\n",
       "      <th>4</th>\n",
       "      <td>582.0</td>\n",
       "      <td>108.731959</td>\n",
       "      <td>14.344314</td>\n",
       "      <td>52.0</td>\n",
       "      <td>100.0</td>\n",
       "      <td>108.0</td>\n",
       "      <td>118.0</td>\n",
       "      <td>155.0</td>\n",
       "      <td>582.0</td>\n",
       "      <td>39.273196</td>\n",
       "      <td>5.803074</td>\n",
       "      <td>19.0</td>\n",
       "      <td>36.0</td>\n",
       "      <td>40.0</td>\n",
       "      <td>42.0</td>\n",
       "      <td>64.0</td>\n",
       "      <td>582.0</td>\n",
       "      <td>0.364746</td>\n",
       "      <td>0.055205</td>\n",
       "      <td>0.163793</td>\n",
       "      <td>0.333333</td>\n",
       "      <td>0.370370</td>\n",
       "      <td>0.396040</td>\n",
       "      <td>0.565217</td>\n",
       "    </tr>\n",
       "    <tr>\n",
       "      <th>5</th>\n",
       "      <td>379.0</td>\n",
       "      <td>109.134565</td>\n",
       "      <td>16.300269</td>\n",
       "      <td>59.0</td>\n",
       "      <td>98.0</td>\n",
       "      <td>107.0</td>\n",
       "      <td>118.5</td>\n",
       "      <td>159.0</td>\n",
       "      <td>379.0</td>\n",
       "      <td>35.955145</td>\n",
       "      <td>3.087883</td>\n",
       "      <td>26.0</td>\n",
       "      <td>34.0</td>\n",
       "      <td>36.0</td>\n",
       "      <td>38.0</td>\n",
       "      <td>55.0</td>\n",
       "      <td>379.0</td>\n",
       "      <td>0.335602</td>\n",
       "      <td>0.050648</td>\n",
       "      <td>0.225352</td>\n",
       "      <td>0.308372</td>\n",
       "      <td>0.336634</td>\n",
       "      <td>0.357895</td>\n",
       "      <td>0.593750</td>\n",
       "    </tr>\n",
       "    <tr>\n",
       "      <th>6</th>\n",
       "      <td>427.0</td>\n",
       "      <td>107.437939</td>\n",
       "      <td>15.516696</td>\n",
       "      <td>53.0</td>\n",
       "      <td>98.0</td>\n",
       "      <td>106.0</td>\n",
       "      <td>116.0</td>\n",
       "      <td>159.0</td>\n",
       "      <td>427.0</td>\n",
       "      <td>40.707260</td>\n",
       "      <td>4.534274</td>\n",
       "      <td>28.0</td>\n",
       "      <td>38.0</td>\n",
       "      <td>40.0</td>\n",
       "      <td>43.0</td>\n",
       "      <td>57.0</td>\n",
       "      <td>427.0</td>\n",
       "      <td>0.384827</td>\n",
       "      <td>0.058887</td>\n",
       "      <td>0.200000</td>\n",
       "      <td>0.353492</td>\n",
       "      <td>0.383838</td>\n",
       "      <td>0.408248</td>\n",
       "      <td>0.735849</td>\n",
       "    </tr>\n",
       "    <tr>\n",
       "      <th>7</th>\n",
       "      <td>389.0</td>\n",
       "      <td>108.627249</td>\n",
       "      <td>14.913060</td>\n",
       "      <td>59.0</td>\n",
       "      <td>99.0</td>\n",
       "      <td>107.0</td>\n",
       "      <td>116.0</td>\n",
       "      <td>202.0</td>\n",
       "      <td>389.0</td>\n",
       "      <td>43.329049</td>\n",
       "      <td>4.535053</td>\n",
       "      <td>22.0</td>\n",
       "      <td>41.0</td>\n",
       "      <td>43.0</td>\n",
       "      <td>46.0</td>\n",
       "      <td>78.0</td>\n",
       "      <td>389.0</td>\n",
       "      <td>0.403864</td>\n",
       "      <td>0.054205</td>\n",
       "      <td>0.194690</td>\n",
       "      <td>0.379630</td>\n",
       "      <td>0.398305</td>\n",
       "      <td>0.428571</td>\n",
       "      <td>0.703125</td>\n",
       "    </tr>\n",
       "    <tr>\n",
       "      <th>8</th>\n",
       "      <td>394.0</td>\n",
       "      <td>109.708122</td>\n",
       "      <td>14.670203</td>\n",
       "      <td>76.0</td>\n",
       "      <td>99.0</td>\n",
       "      <td>108.0</td>\n",
       "      <td>117.0</td>\n",
       "      <td>160.0</td>\n",
       "      <td>394.0</td>\n",
       "      <td>41.469543</td>\n",
       "      <td>3.761373</td>\n",
       "      <td>26.0</td>\n",
       "      <td>39.0</td>\n",
       "      <td>41.0</td>\n",
       "      <td>44.0</td>\n",
       "      <td>60.0</td>\n",
       "      <td>394.0</td>\n",
       "      <td>0.382227</td>\n",
       "      <td>0.043244</td>\n",
       "      <td>0.254902</td>\n",
       "      <td>0.359459</td>\n",
       "      <td>0.385896</td>\n",
       "      <td>0.406250</td>\n",
       "      <td>0.542169</td>\n",
       "    </tr>\n",
       "    <tr>\n",
       "      <th>9</th>\n",
       "      <td>463.0</td>\n",
       "      <td>108.224622</td>\n",
       "      <td>13.757378</td>\n",
       "      <td>59.0</td>\n",
       "      <td>100.0</td>\n",
       "      <td>107.0</td>\n",
       "      <td>116.0</td>\n",
       "      <td>150.0</td>\n",
       "      <td>463.0</td>\n",
       "      <td>40.889849</td>\n",
       "      <td>3.999292</td>\n",
       "      <td>26.0</td>\n",
       "      <td>38.0</td>\n",
       "      <td>40.0</td>\n",
       "      <td>43.0</td>\n",
       "      <td>64.0</td>\n",
       "      <td>463.0</td>\n",
       "      <td>0.381779</td>\n",
       "      <td>0.045083</td>\n",
       "      <td>0.204724</td>\n",
       "      <td>0.357798</td>\n",
       "      <td>0.380952</td>\n",
       "      <td>0.400000</td>\n",
       "      <td>0.610169</td>\n",
       "    </tr>\n",
       "  </tbody>\n",
       "</table>\n",
       "</div>"
      ],
      "text/plain": [
       "      height                                                           width  \\\n",
       "       count        mean        std   min    25%    50%    75%    max  count   \n",
       "label                                                                          \n",
       "1      738.0  107.754743  14.261305  64.0   99.0  106.5  116.0  160.0  738.0   \n",
       "2      636.0  110.062893  16.172373  53.0   99.0  108.0  118.0  179.0  636.0   \n",
       "3      621.0  107.064412  14.092747  63.0   99.0  106.0  115.0  160.0  621.0   \n",
       "4      582.0  108.731959  14.344314  52.0  100.0  108.0  118.0  155.0  582.0   \n",
       "5      379.0  109.134565  16.300269  59.0   98.0  107.0  118.5  159.0  379.0   \n",
       "6      427.0  107.437939  15.516696  53.0   98.0  106.0  116.0  159.0  427.0   \n",
       "7      389.0  108.627249  14.913060  59.0   99.0  107.0  116.0  202.0  389.0   \n",
       "8      394.0  109.708122  14.670203  76.0   99.0  108.0  117.0  160.0  394.0   \n",
       "9      463.0  108.224622  13.757378  59.0  100.0  107.0  116.0  150.0  463.0   \n",
       "\n",
       "                                                         aspect ratio  \\\n",
       "            mean       std   min   25%   50%   75%   max        count   \n",
       "label                                                                   \n",
       "1      21.421409  4.361224  14.0  19.0  21.0  22.0  62.0        738.0   \n",
       "2      36.773585  4.763278  21.0  34.0  36.0  39.0  61.0        636.0   \n",
       "3      42.745572  4.590629  26.0  40.0  43.0  46.0  61.0        621.0   \n",
       "4      39.273196  5.803074  19.0  36.0  40.0  42.0  64.0        582.0   \n",
       "5      35.955145  3.087883  26.0  34.0  36.0  38.0  55.0        379.0   \n",
       "6      40.707260  4.534274  28.0  38.0  40.0  43.0  57.0        427.0   \n",
       "7      43.329049  4.535053  22.0  41.0  43.0  46.0  78.0        389.0   \n",
       "8      41.469543  3.761373  26.0  39.0  41.0  44.0  60.0        394.0   \n",
       "9      40.889849  3.999292  26.0  38.0  40.0  43.0  64.0        463.0   \n",
       "\n",
       "                                                                             \n",
       "           mean       std       min       25%       50%       75%       max  \n",
       "label                                                                        \n",
       "1      0.200587  0.038924  0.105960  0.180551  0.194915  0.210526  0.568807  \n",
       "2      0.338654  0.051445  0.175000  0.314683  0.339623  0.361702  0.698113  \n",
       "3      0.404506  0.059117  0.263566  0.371681  0.401869  0.429825  0.714286  \n",
       "4      0.364746  0.055205  0.163793  0.333333  0.370370  0.396040  0.565217  \n",
       "5      0.335602  0.050648  0.225352  0.308372  0.336634  0.357895  0.593750  \n",
       "6      0.384827  0.058887  0.200000  0.353492  0.383838  0.408248  0.735849  \n",
       "7      0.403864  0.054205  0.194690  0.379630  0.398305  0.428571  0.703125  \n",
       "8      0.382227  0.043244  0.254902  0.359459  0.385896  0.406250  0.542169  \n",
       "9      0.381779  0.045083  0.204724  0.357798  0.380952  0.400000  0.610169  "
      ]
     },
     "execution_count": 12,
     "metadata": {},
     "output_type": "execute_result"
    }
   ],
   "source": [
    "df.groupby('label').describe()"
   ]
  },
  {
   "cell_type": "code",
   "execution_count": 13,
   "metadata": {
    "execution": {
     "iopub.execute_input": "2022-04-17T19:28:46.784256Z",
     "iopub.status.busy": "2022-04-17T19:28:46.783567Z",
     "iopub.status.idle": "2022-04-17T19:28:46.808985Z",
     "shell.execute_reply": "2022-04-17T19:28:46.808270Z",
     "shell.execute_reply.started": "2022-04-17T19:28:46.784214Z"
    }
   },
   "outputs": [
    {
     "data": {
      "text/html": [
       "<div>\n",
       "<style scoped>\n",
       "    .dataframe tbody tr th:only-of-type {\n",
       "        vertical-align: middle;\n",
       "    }\n",
       "\n",
       "    .dataframe tbody tr th {\n",
       "        vertical-align: top;\n",
       "    }\n",
       "\n",
       "    .dataframe thead th {\n",
       "        text-align: right;\n",
       "    }\n",
       "</style>\n",
       "<table border=\"1\" class=\"dataframe\">\n",
       "  <thead>\n",
       "    <tr style=\"text-align: right;\">\n",
       "      <th></th>\n",
       "      <th>count</th>\n",
       "      <th>mean</th>\n",
       "      <th>std</th>\n",
       "      <th>min</th>\n",
       "      <th>25%</th>\n",
       "      <th>50%</th>\n",
       "      <th>75%</th>\n",
       "      <th>max</th>\n",
       "    </tr>\n",
       "  </thead>\n",
       "  <tbody>\n",
       "    <tr>\n",
       "      <th>label</th>\n",
       "      <td>4629.0</td>\n",
       "      <td>4.471808</td>\n",
       "      <td>2.639520</td>\n",
       "      <td>1.00000</td>\n",
       "      <td>2.000000</td>\n",
       "      <td>4.000000</td>\n",
       "      <td>7.000000</td>\n",
       "      <td>9.000000</td>\n",
       "    </tr>\n",
       "    <tr>\n",
       "      <th>height</th>\n",
       "      <td>4629.0</td>\n",
       "      <td>108.472456</td>\n",
       "      <td>14.878445</td>\n",
       "      <td>52.00000</td>\n",
       "      <td>99.000000</td>\n",
       "      <td>107.000000</td>\n",
       "      <td>117.000000</td>\n",
       "      <td>202.000000</td>\n",
       "    </tr>\n",
       "    <tr>\n",
       "      <th>width</th>\n",
       "      <td>4629.0</td>\n",
       "      <td>37.099590</td>\n",
       "      <td>8.491328</td>\n",
       "      <td>14.00000</td>\n",
       "      <td>34.000000</td>\n",
       "      <td>39.000000</td>\n",
       "      <td>43.000000</td>\n",
       "      <td>78.000000</td>\n",
       "    </tr>\n",
       "    <tr>\n",
       "      <th>aspect ratio</th>\n",
       "      <td>4629.0</td>\n",
       "      <td>0.346268</td>\n",
       "      <td>0.084521</td>\n",
       "      <td>0.10596</td>\n",
       "      <td>0.308943</td>\n",
       "      <td>0.362637</td>\n",
       "      <td>0.397959</td>\n",
       "      <td>0.735849</td>\n",
       "    </tr>\n",
       "  </tbody>\n",
       "</table>\n",
       "</div>"
      ],
      "text/plain": [
       "               count        mean        std       min        25%         50%  \\\n",
       "label         4629.0    4.471808   2.639520   1.00000   2.000000    4.000000   \n",
       "height        4629.0  108.472456  14.878445  52.00000  99.000000  107.000000   \n",
       "width         4629.0   37.099590   8.491328  14.00000  34.000000   39.000000   \n",
       "aspect ratio  4629.0    0.346268   0.084521   0.10596   0.308943    0.362637   \n",
       "\n",
       "                     75%         max  \n",
       "label           7.000000    9.000000  \n",
       "height        117.000000  202.000000  \n",
       "width          43.000000   78.000000  \n",
       "aspect ratio    0.397959    0.735849  "
      ]
     },
     "execution_count": 13,
     "metadata": {},
     "output_type": "execute_result"
    }
   ],
   "source": [
    "df.describe().T"
   ]
  },
  {
   "cell_type": "code",
   "execution_count": 14,
   "metadata": {},
   "outputs": [
    {
     "data": {
      "image/png": "[encoded data removed]",
      "text/plain": [
       "<Figure size 640x480 with 1 Axes>"
      ]
     },
     "metadata": {},
     "output_type": "display_data"
    }
   ],
   "source": [
    "img = cv2.imread(df['image_path'][0])\n",
    "img = cv2.resize(img, (0,0), fx=0.5, fy=0.5) \n",
    "plt.imshow(img)\n",
    "plt.show()"
   ]
  },
  {
   "cell_type": "code",
   "execution_count": 15,
   "metadata": {
    "execution": {
     "iopub.execute_input": "2022-04-17T19:28:47.570884Z",
     "iopub.status.busy": "2022-04-17T19:28:47.570317Z",
     "iopub.status.idle": "2022-04-17T19:28:50.547115Z",
     "shell.execute_reply": "2022-04-17T19:28:50.545062Z",
     "shell.execute_reply.started": "2022-04-17T19:28:47.570848Z"
    }
   },
   "outputs": [],
   "source": [
    "#new_image_width = 78\n",
    "#new_image_height = 202\n",
    "#size = len(df)\n",
    "#train_full_labels = df['label'].values\n",
    "#train_full_set = np.empty((size, new_image_height//2, new_image_width//2, 1), dtype=np.float32)\n",
    "#\n",
    "#for idx, path in enumerate(df['image_path']):\n",
    "#    img = plt.imread(path)\n",
    "#    old_image_height, old_image_width = img.shape\n",
    "#    \n",
    "#    result = np.full((new_image_height,new_image_width), 0, dtype=np.uint8)\n",
    "#    \n",
    "#    # compute center offset\n",
    "#    x_center = (new_image_width - old_image_width) // 2\n",
    "#    y_center = (new_image_height - old_image_height) // 2\n",
    "#    \n",
    "#\n",
    "#    # copy img image into center of result image\n",
    "#    result[y_center:y_center+old_image_height, x_center:x_center+old_image_width] = img\n",
    "#    \n",
    "#    img = result.reshape(new_image_height, new_image_width, 1)\n",
    "#    train_full_set[idx] = cv2.resize(img, (0,0), fx=0.5, fy=0.5).reshape(new_image_height//2, new_image_width//2, 1)\n",
    "#\n",
    "#print('train_full_set.shape =>', train_full_set.shape)\n",
    "#print('train_full_labels.shape =>', train_full_labels.shape)"
   ]
  },
  {
   "cell_type": "code",
   "execution_count": 61,
   "metadata": {},
   "outputs": [
    {
     "data": {
      "text/html": [
       "<div>\n",
       "<style scoped>\n",
       "    .dataframe tbody tr th:only-of-type {\n",
       "        vertical-align: middle;\n",
       "    }\n",
       "\n",
       "    .dataframe tbody tr th {\n",
       "        vertical-align: top;\n",
       "    }\n",
       "\n",
       "    .dataframe thead th {\n",
       "        text-align: right;\n",
       "    }\n",
       "</style>\n",
       "<table border=\"1\" class=\"dataframe\">\n",
       "  <thead>\n",
       "    <tr style=\"text-align: right;\">\n",
       "      <th></th>\n",
       "      <th>image_path</th>\n",
       "      <th>label</th>\n",
       "      <th>height</th>\n",
       "      <th>width</th>\n",
       "      <th>aspect ratio</th>\n",
       "    </tr>\n",
       "  </thead>\n",
       "  <tbody>\n",
       "    <tr>\n",
       "      <th>0</th>\n",
       "      <td>../data/raw/train/1/vaxalpr_1615NRT_20201110_1...</td>\n",
       "      <td>1</td>\n",
       "      <td>102</td>\n",
       "      <td>20</td>\n",
       "      <td>0.196078</td>\n",
       "    </tr>\n",
       "    <tr>\n",
       "      <th>1</th>\n",
       "      <td>../data/raw/train/1/vaxalpr_1984YRT_20201114_1...</td>\n",
       "      <td>1</td>\n",
       "      <td>146</td>\n",
       "      <td>24</td>\n",
       "      <td>0.164384</td>\n",
       "    </tr>\n",
       "    <tr>\n",
       "      <th>2</th>\n",
       "      <td>../data/raw/train/1/vaxalpr_1628SRT_20201111_0...</td>\n",
       "      <td>1</td>\n",
       "      <td>106</td>\n",
       "      <td>19</td>\n",
       "      <td>0.179245</td>\n",
       "    </tr>\n",
       "    <tr>\n",
       "      <th>3</th>\n",
       "      <td>../data/raw/train/1/vaxalpr_1563YRT_20201114_1...</td>\n",
       "      <td>1</td>\n",
       "      <td>118</td>\n",
       "      <td>23</td>\n",
       "      <td>0.194915</td>\n",
       "    </tr>\n",
       "    <tr>\n",
       "      <th>4</th>\n",
       "      <td>../data/raw/train/1/vaxalpr_1572GES_20201112_0...</td>\n",
       "      <td>1</td>\n",
       "      <td>120</td>\n",
       "      <td>20</td>\n",
       "      <td>0.166667</td>\n",
       "    </tr>\n",
       "    <tr>\n",
       "      <th>...</th>\n",
       "      <td>...</td>\n",
       "      <td>...</td>\n",
       "      <td>...</td>\n",
       "      <td>...</td>\n",
       "      <td>...</td>\n",
       "    </tr>\n",
       "    <tr>\n",
       "      <th>4495</th>\n",
       "      <td>../data/raw/train/9/vaxalpr_1661SRT_20201116_1...</td>\n",
       "      <td>9</td>\n",
       "      <td>117</td>\n",
       "      <td>43</td>\n",
       "      <td>0.367521</td>\n",
       "    </tr>\n",
       "    <tr>\n",
       "      <th>4496</th>\n",
       "      <td>../data/raw/train/9/vaxalpr_2982LRT_20201112_1...</td>\n",
       "      <td>9</td>\n",
       "      <td>91</td>\n",
       "      <td>40</td>\n",
       "      <td>0.439560</td>\n",
       "    </tr>\n",
       "    <tr>\n",
       "      <th>4497</th>\n",
       "      <td>../data/raw/train/9/vaxalpr_2991WA_20201115_12...</td>\n",
       "      <td>9</td>\n",
       "      <td>102</td>\n",
       "      <td>40</td>\n",
       "      <td>0.392157</td>\n",
       "    </tr>\n",
       "    <tr>\n",
       "      <th>4498</th>\n",
       "      <td>../data/raw/train/9/vaxalpr_1598YWE_20201115_1...</td>\n",
       "      <td>9</td>\n",
       "      <td>107</td>\n",
       "      <td>40</td>\n",
       "      <td>0.373832</td>\n",
       "    </tr>\n",
       "    <tr>\n",
       "      <th>4499</th>\n",
       "      <td>../data/raw/train/9/vaxalpr_1963BRT_20201114_1...</td>\n",
       "      <td>9</td>\n",
       "      <td>89</td>\n",
       "      <td>39</td>\n",
       "      <td>0.438202</td>\n",
       "    </tr>\n",
       "  </tbody>\n",
       "</table>\n",
       "<p>4500 rows × 5 columns</p>\n",
       "</div>"
      ],
      "text/plain": [
       "                                             image_path  label  height  width  \\\n",
       "0     ../data/raw/train/1/vaxalpr_1615NRT_20201110_1...      1     102     20   \n",
       "1     ../data/raw/train/1/vaxalpr_1984YRT_20201114_1...      1     146     24   \n",
       "2     ../data/raw/train/1/vaxalpr_1628SRT_20201111_0...      1     106     19   \n",
       "3     ../data/raw/train/1/vaxalpr_1563YRT_20201114_1...      1     118     23   \n",
       "4     ../data/raw/train/1/vaxalpr_1572GES_20201112_0...      1     120     20   \n",
       "...                                                 ...    ...     ...    ...   \n",
       "4495  ../data/raw/train/9/vaxalpr_1661SRT_20201116_1...      9     117     43   \n",
       "4496  ../data/raw/train/9/vaxalpr_2982LRT_20201112_1...      9      91     40   \n",
       "4497  ../data/raw/train/9/vaxalpr_2991WA_20201115_12...      9     102     40   \n",
       "4498  ../data/raw/train/9/vaxalpr_1598YWE_20201115_1...      9     107     40   \n",
       "4499  ../data/raw/train/9/vaxalpr_1963BRT_20201114_1...      9      89     39   \n",
       "\n",
       "      aspect ratio  \n",
       "0         0.196078  \n",
       "1         0.164384  \n",
       "2         0.179245  \n",
       "3         0.194915  \n",
       "4         0.166667  \n",
       "...            ...  \n",
       "4495      0.367521  \n",
       "4496      0.439560  \n",
       "4497      0.392157  \n",
       "4498      0.373832  \n",
       "4499      0.438202  \n",
       "\n",
       "[4500 rows x 5 columns]"
      ]
     },
     "execution_count": 61,
     "metadata": {},
     "output_type": "execute_result"
    }
   ],
   "source": [
    "train = []\n",
    "\n",
    "for i in range(1, 10):\n",
    "    train.append(df[df['label'] == i].sample(500, replace=True))\n",
    "    \n",
    "traindf = pd.concat(train, axis=0, ignore_index=True)\n",
    "traindf"
   ]
  },
  {
   "cell_type": "code",
   "execution_count": 62,
   "metadata": {
    "execution": {
     "iopub.execute_input": "2022-04-17T19:33:55.724360Z",
     "iopub.status.busy": "2022-04-17T19:33:55.724114Z",
     "iopub.status.idle": "2022-04-17T19:33:58.945824Z",
     "shell.execute_reply": "2022-04-17T19:33:58.945063Z",
     "shell.execute_reply.started": "2022-04-17T19:33:55.724331Z"
    }
   },
   "outputs": [
    {
     "name": "stdout",
     "output_type": "stream",
     "text": [
      "train_full_set.shape => (4500, 108, 40, 1)\n",
      "train_full_labels.shape => (4500,)\n"
     ]
    }
   ],
   "source": [
    "new_image_width = 40\n",
    "new_image_height = 108\n",
    "size = len(traindf)\n",
    "train_full_labels = traindf['label'].values\n",
    "train_full_set = np.empty((size, new_image_height, new_image_width, 1), dtype=np.float32)\n",
    "\n",
    "for idx, path in enumerate(traindf['image_path']):\n",
    "    img = cv2.imread(path, -1)\n",
    "    img = cv2.resize(img, (new_image_width, new_image_height), interpolation=cv2.INTER_NEAREST)\n",
    "    train_full_set[idx] = img.reshape(new_image_height, new_image_width, 1)\n",
    "    \n",
    "\n",
    "print('train_full_set.shape =>', train_full_set.shape)\n",
    "print('train_full_labels.shape =>', train_full_labels.shape)"
   ]
  },
  {
   "cell_type": "code",
   "execution_count": 63,
   "metadata": {
    "execution": {
     "iopub.execute_input": "2022-04-17T19:34:02.149852Z",
     "iopub.status.busy": "2022-04-17T19:34:02.149289Z",
     "iopub.status.idle": "2022-04-17T19:34:02.183573Z",
     "shell.execute_reply": "2022-04-17T19:34:02.182819Z",
     "shell.execute_reply.started": "2022-04-17T19:34:02.149810Z"
    }
   },
   "outputs": [
    {
     "name": "stdout",
     "output_type": "stream",
     "text": [
      "X_train.shape => (4275, 108, 40, 1)\n",
      "X_valid.shape => (225, 108, 40, 1)\n",
      "y_train.shape => (4275,)\n",
      "y_valid.shape => (225,)\n"
     ]
    }
   ],
   "source": [
    "from sklearn.model_selection import train_test_split\n",
    "X_train, X_valid, y_train, y_valid = train_test_split(train_full_set, train_full_labels, \n",
    "                                                      test_size=0.05, shuffle=True, random_state=42)\n",
    "\n",
    "print('X_train.shape =>', X_train.shape)\n",
    "print('X_valid.shape =>', X_valid.shape)\n",
    "print('y_train.shape =>', y_train.shape)\n",
    "print('y_valid.shape =>', y_valid.shape)"
   ]
  },
  {
   "cell_type": "code",
   "execution_count": 64,
   "metadata": {
    "execution": {
     "iopub.execute_input": "2022-04-17T19:34:06.423691Z",
     "iopub.status.busy": "2022-04-17T19:34:06.423393Z",
     "iopub.status.idle": "2022-04-17T19:34:06.431416Z",
     "shell.execute_reply": "2022-04-17T19:34:06.430350Z",
     "shell.execute_reply.started": "2022-04-17T19:34:06.423654Z"
    }
   },
   "outputs": [],
   "source": [
    "datagen = tf.keras.preprocessing.image.ImageDataGenerator(\n",
    "    shear_range=0.2,\n",
    "    zoom_range=0.2,\n",
    "    rotation_range=20,\n",
    "    width_shift_range=0.2,\n",
    "    height_shift_range=0.2,\n",
    "    horizontal_flip=False,\n",
    "    validation_split=0)"
   ]
  },
  {
   "cell_type": "code",
   "execution_count": 65,
   "metadata": {
    "execution": {
     "iopub.execute_input": "2022-04-17T19:34:19.083919Z",
     "iopub.status.busy": "2022-04-17T19:34:19.083660Z",
     "iopub.status.idle": "2022-04-17T19:34:19.169331Z",
     "shell.execute_reply": "2022-04-17T19:34:19.168675Z",
     "shell.execute_reply.started": "2022-04-17T19:34:19.083891Z"
    }
   },
   "outputs": [],
   "source": [
    "model = tf.keras.Sequential([\n",
    "  tf.keras.layers.Rescaling(1./255, input_shape=[new_image_height, new_image_width, 1]),\n",
    "  tf.keras.layers.Conv2D(16, 3, padding='same', activation='relu'),\n",
    "  tf.keras.layers.MaxPooling2D(2),\n",
    "  tf.keras.layers.Conv2D(32, 3, padding='same', activation='relu'),\n",
    "  #tf.keras.layers.Conv2D(32, 3, padding='same', activation='relu'),\n",
    "  tf.keras.layers.MaxPooling2D(2),\n",
    "  tf.keras.layers.Conv2D(64, 3, padding='same', activation='relu'),\n",
    "  #tf.keras.layers.Conv2D(64, 3, padding='same', activation='relu'),\n",
    "  tf.keras.layers.MaxPooling2D(2),\n",
    "  tf.keras.layers.Flatten(),\n",
    "  tf.keras.layers.Dense(128, activation='relu'),\n",
    "  tf.keras.layers.Dropout(0.5),\n",
    "  tf.keras.layers.Dense(64, activation='relu'),\n",
    "  tf.keras.layers.Dropout(0.5),\n",
    "  tf.keras.layers.Dense(10, activation='softmax')\n",
    "])"
   ]
  },
  {
   "cell_type": "code",
   "execution_count": 66,
   "metadata": {
    "execution": {
     "iopub.execute_input": "2022-04-17T19:34:20.978410Z",
     "iopub.status.busy": "2022-04-17T19:34:20.977869Z",
     "iopub.status.idle": "2022-04-17T19:34:20.993157Z",
     "shell.execute_reply": "2022-04-17T19:34:20.992158Z",
     "shell.execute_reply.started": "2022-04-17T19:34:20.978356Z"
    }
   },
   "outputs": [
    {
     "name": "stdout",
     "output_type": "stream",
     "text": [
      "Model: \"sequential_2\"\n",
      "_________________________________________________________________\n",
      " Layer (type)                Output Shape              Param #   \n",
      "=================================================================\n",
      " rescaling_2 (Rescaling)     (None, 108, 40, 1)        0         \n",
      "                                                                 \n",
      " conv2d_6 (Conv2D)           (None, 108, 40, 16)       160       \n",
      "                                                                 \n",
      " max_pooling2d_6 (MaxPooling  (None, 54, 20, 16)       0         \n",
      " 2D)                                                             \n",
      "                                                                 \n",
      " conv2d_7 (Conv2D)           (None, 54, 20, 32)        4640      \n",
      "                                                                 \n",
      " max_pooling2d_7 (MaxPooling  (None, 27, 10, 32)       0         \n",
      " 2D)                                                             \n",
      "                                                                 \n",
      " conv2d_8 (Conv2D)           (None, 27, 10, 64)        18496     \n",
      "                                                                 \n",
      " max_pooling2d_8 (MaxPooling  (None, 13, 5, 64)        0         \n",
      " 2D)                                                             \n",
      "                                                                 \n",
      " flatten_2 (Flatten)         (None, 4160)              0         \n",
      "                                                                 \n",
      " dense_6 (Dense)             (None, 128)               532608    \n",
      "                                                                 \n",
      " dropout_4 (Dropout)         (None, 128)               0         \n",
      "                                                                 \n",
      " dense_7 (Dense)             (None, 64)                8256      \n",
      "                                                                 \n",
      " dropout_5 (Dropout)         (None, 64)                0         \n",
      "                                                                 \n",
      " dense_8 (Dense)             (None, 10)                650       \n",
      "                                                                 \n",
      "=================================================================\n",
      "Total params: 564,810\n",
      "Trainable params: 564,810\n",
      "Non-trainable params: 0\n",
      "_________________________________________________________________\n"
     ]
    }
   ],
   "source": [
    "model.summary()"
   ]
  },
  {
   "cell_type": "code",
   "execution_count": 67,
   "metadata": {
    "execution": {
     "iopub.execute_input": "2022-04-17T19:34:27.726357Z",
     "iopub.status.busy": "2022-04-17T19:34:27.725486Z",
     "iopub.status.idle": "2022-04-17T19:34:27.736242Z",
     "shell.execute_reply": "2022-04-17T19:34:27.735521Z",
     "shell.execute_reply.started": "2022-04-17T19:34:27.726300Z"
    }
   },
   "outputs": [],
   "source": [
    "model.compile(loss='sparse_categorical_crossentropy', optimizer='adam', metrics=['accuracy'])"
   ]
  },
  {
   "cell_type": "code",
   "execution_count": 68,
   "metadata": {
    "execution": {
     "iopub.execute_input": "2022-04-17T19:34:32.897986Z",
     "iopub.status.busy": "2022-04-17T19:34:32.897735Z",
     "iopub.status.idle": "2022-04-17T19:37:17.662526Z",
     "shell.execute_reply": "2022-04-17T19:37:17.661785Z",
     "shell.execute_reply.started": "2022-04-17T19:34:32.897957Z"
    }
   },
   "outputs": [
    {
     "name": "stdout",
     "output_type": "stream",
     "text": [
      "Epoch 1/50\n",
      "134/134 [==============================] - 3s 19ms/step - loss: 1.7026 - accuracy: 0.3832 - val_loss: 0.7480 - val_accuracy: 0.8000\n",
      "Epoch 2/50\n",
      "134/134 [==============================] - 2s 16ms/step - loss: 0.8881 - accuracy: 0.6875 - val_loss: 0.4549 - val_accuracy: 0.8844\n",
      "Epoch 3/50\n",
      "134/134 [==============================] - 2s 16ms/step - loss: 0.6451 - accuracy: 0.7855 - val_loss: 0.3021 - val_accuracy: 0.9200\n",
      "Epoch 4/50\n",
      "134/134 [==============================] - 2s 16ms/step - loss: 0.4849 - accuracy: 0.8388 - val_loss: 0.1842 - val_accuracy: 0.9600\n",
      "Epoch 5/50\n",
      "134/134 [==============================] - 2s 16ms/step - loss: 0.4270 - accuracy: 0.8706 - val_loss: 0.1288 - val_accuracy: 0.9600\n",
      "Epoch 6/50\n",
      "134/134 [==============================] - 2s 16ms/step - loss: 0.3703 - accuracy: 0.8854 - val_loss: 0.0923 - val_accuracy: 0.9689\n",
      "Epoch 7/50\n",
      "134/134 [==============================] - 2s 16ms/step - loss: 0.3559 - accuracy: 0.8926 - val_loss: 0.1392 - val_accuracy: 0.9644\n",
      "Epoch 8/50\n",
      "134/134 [==============================] - 2s 16ms/step - loss: 0.3332 - accuracy: 0.9008 - val_loss: 0.1285 - val_accuracy: 0.9733\n",
      "Epoch 9/50\n",
      "134/134 [==============================] - 2s 16ms/step - loss: 0.2795 - accuracy: 0.9174 - val_loss: 0.0991 - val_accuracy: 0.9822\n",
      "Epoch 10/50\n",
      "134/134 [==============================] - 2s 16ms/step - loss: 0.2529 - accuracy: 0.9294 - val_loss: 0.0660 - val_accuracy: 0.9733\n",
      "Epoch 11/50\n",
      "134/134 [==============================] - 2s 17ms/step - loss: 0.2534 - accuracy: 0.9317 - val_loss: 0.1340 - val_accuracy: 0.9467\n",
      "Epoch 12/50\n",
      "134/134 [==============================] - 2s 16ms/step - loss: 0.2194 - accuracy: 0.9382 - val_loss: 0.0311 - val_accuracy: 0.9867\n",
      "Epoch 13/50\n",
      "134/134 [==============================] - 2s 16ms/step - loss: 0.2037 - accuracy: 0.9399 - val_loss: 0.0546 - val_accuracy: 0.9822\n",
      "Epoch 14/50\n",
      "134/134 [==============================] - 2s 16ms/step - loss: 0.1865 - accuracy: 0.9425 - val_loss: 0.0477 - val_accuracy: 0.9867\n",
      "Epoch 15/50\n",
      "134/134 [==============================] - 2s 17ms/step - loss: 0.1957 - accuracy: 0.9429 - val_loss: 0.1292 - val_accuracy: 0.9733\n",
      "Epoch 16/50\n",
      "134/134 [==============================] - 2s 17ms/step - loss: 0.1889 - accuracy: 0.9441 - val_loss: 0.0907 - val_accuracy: 0.9778\n",
      "Epoch 17/50\n",
      "134/134 [==============================] - 2s 17ms/step - loss: 0.1934 - accuracy: 0.9471 - val_loss: 0.0404 - val_accuracy: 0.9867\n",
      "Epoch 18/50\n",
      "134/134 [==============================] - 2s 17ms/step - loss: 0.1778 - accuracy: 0.9504 - val_loss: 0.0377 - val_accuracy: 0.9867\n",
      "Epoch 19/50\n",
      "134/134 [==============================] - 2s 16ms/step - loss: 0.1704 - accuracy: 0.9532 - val_loss: 0.0566 - val_accuracy: 0.9867\n",
      "Epoch 20/50\n",
      "134/134 [==============================] - 2s 16ms/step - loss: 0.1649 - accuracy: 0.9535 - val_loss: 0.0416 - val_accuracy: 0.9911\n",
      "Epoch 21/50\n",
      "134/134 [==============================] - 2s 17ms/step - loss: 0.1455 - accuracy: 0.9560 - val_loss: 0.0702 - val_accuracy: 0.9689\n",
      "Epoch 22/50\n",
      "134/134 [==============================] - 2s 16ms/step - loss: 0.1527 - accuracy: 0.9595 - val_loss: 0.0456 - val_accuracy: 0.9778\n",
      "Epoch 23/50\n",
      "134/134 [==============================] - 2s 16ms/step - loss: 0.1573 - accuracy: 0.9598 - val_loss: 0.0719 - val_accuracy: 0.9822\n",
      "Epoch 24/50\n",
      "134/134 [==============================] - 2s 16ms/step - loss: 0.1412 - accuracy: 0.9626 - val_loss: 0.0283 - val_accuracy: 0.9911\n",
      "Epoch 25/50\n",
      "134/134 [==============================] - 2s 16ms/step - loss: 0.1393 - accuracy: 0.9654 - val_loss: 0.0519 - val_accuracy: 0.9911\n",
      "Epoch 26/50\n",
      "134/134 [==============================] - 2s 16ms/step - loss: 0.1285 - accuracy: 0.9633 - val_loss: 0.0203 - val_accuracy: 0.9956\n",
      "Epoch 27/50\n",
      "134/134 [==============================] - 2s 16ms/step - loss: 0.1517 - accuracy: 0.9556 - val_loss: 0.0308 - val_accuracy: 0.9911\n",
      "Epoch 28/50\n",
      "134/134 [==============================] - 2s 16ms/step - loss: 0.1460 - accuracy: 0.9623 - val_loss: 0.0739 - val_accuracy: 0.9911\n",
      "Epoch 29/50\n",
      "134/134 [==============================] - 2s 16ms/step - loss: 0.1210 - accuracy: 0.9663 - val_loss: 0.0244 - val_accuracy: 0.9956\n",
      "Epoch 30/50\n",
      "134/134 [==============================] - 2s 16ms/step - loss: 0.1324 - accuracy: 0.9623 - val_loss: 0.0270 - val_accuracy: 0.9956\n",
      "Epoch 31/50\n",
      "134/134 [==============================] - 2s 16ms/step - loss: 0.1204 - accuracy: 0.9649 - val_loss: 0.0649 - val_accuracy: 0.9778\n",
      "Epoch 32/50\n",
      "134/134 [==============================] - 2s 17ms/step - loss: 0.1267 - accuracy: 0.9651 - val_loss: 0.0631 - val_accuracy: 0.9778\n",
      "Epoch 33/50\n",
      "134/134 [==============================] - 2s 16ms/step - loss: 0.1306 - accuracy: 0.9619 - val_loss: 0.0146 - val_accuracy: 0.9956\n",
      "Epoch 34/50\n",
      "134/134 [==============================] - 2s 16ms/step - loss: 0.1227 - accuracy: 0.9619 - val_loss: 0.0321 - val_accuracy: 0.9867\n",
      "Epoch 35/50\n",
      "134/134 [==============================] - 2s 16ms/step - loss: 0.1148 - accuracy: 0.9684 - val_loss: 0.0451 - val_accuracy: 0.9867\n",
      "Epoch 36/50\n",
      "134/134 [==============================] - 2s 16ms/step - loss: 0.1193 - accuracy: 0.9703 - val_loss: 0.0319 - val_accuracy: 0.9911\n",
      "Epoch 37/50\n",
      "134/134 [==============================] - 2s 17ms/step - loss: 0.1038 - accuracy: 0.9733 - val_loss: 0.0524 - val_accuracy: 0.9911\n",
      "Epoch 38/50\n",
      "134/134 [==============================] - 2s 16ms/step - loss: 0.1111 - accuracy: 0.9708 - val_loss: 0.0333 - val_accuracy: 0.9911\n",
      "Epoch 39/50\n",
      "134/134 [==============================] - 2s 16ms/step - loss: 0.1005 - accuracy: 0.9722 - val_loss: 0.0352 - val_accuracy: 0.9867\n",
      "Epoch 40/50\n",
      "134/134 [==============================] - 2s 16ms/step - loss: 0.0858 - accuracy: 0.9761 - val_loss: 0.1053 - val_accuracy: 0.9822\n",
      "Epoch 41/50\n",
      "134/134 [==============================] - 2s 16ms/step - loss: 0.0982 - accuracy: 0.9740 - val_loss: 0.0392 - val_accuracy: 0.9867\n",
      "Epoch 42/50\n",
      "134/134 [==============================] - 2s 16ms/step - loss: 0.1077 - accuracy: 0.9715 - val_loss: 0.0106 - val_accuracy: 1.0000\n",
      "Epoch 43/50\n",
      "134/134 [==============================] - 2s 17ms/step - loss: 0.1057 - accuracy: 0.9708 - val_loss: 0.0397 - val_accuracy: 0.9911\n",
      "Epoch 44/50\n",
      "134/134 [==============================] - 2s 17ms/step - loss: 0.0934 - accuracy: 0.9764 - val_loss: 0.0743 - val_accuracy: 0.9822\n",
      "Epoch 45/50\n",
      "134/134 [==============================] - 2s 17ms/step - loss: 0.0821 - accuracy: 0.9792 - val_loss: 0.0150 - val_accuracy: 0.9956\n",
      "Epoch 46/50\n",
      "134/134 [==============================] - 2s 16ms/step - loss: 0.0878 - accuracy: 0.9782 - val_loss: 0.1139 - val_accuracy: 0.9778\n",
      "Epoch 47/50\n",
      "134/134 [==============================] - 2s 16ms/step - loss: 0.0846 - accuracy: 0.9750 - val_loss: 0.0131 - val_accuracy: 0.9956\n",
      "Epoch 48/50\n",
      "134/134 [==============================] - 2s 16ms/step - loss: 0.0836 - accuracy: 0.9733 - val_loss: 0.0113 - val_accuracy: 1.0000\n",
      "Epoch 49/50\n",
      "134/134 [==============================] - 2s 16ms/step - loss: 0.0884 - accuracy: 0.9778 - val_loss: 0.0380 - val_accuracy: 0.9911\n",
      "Epoch 50/50\n",
      "134/134 [==============================] - 2s 16ms/step - loss: 0.0900 - accuracy: 0.9729 - val_loss: 0.0233 - val_accuracy: 0.9867\n"
     ]
    }
   ],
   "source": [
    "history = model.fit(\n",
    "    datagen.flow(X_train, y_train, batch_size=32),\n",
    "    validation_data=datagen.flow(X_valid, y_valid),\n",
    "    epochs=50)"
   ]
  },
  {
   "cell_type": "code",
   "execution_count": 69,
   "metadata": {
    "execution": {
     "iopub.execute_input": "2022-04-17T19:37:52.543116Z",
     "iopub.status.busy": "2022-04-17T19:37:52.542859Z",
     "iopub.status.idle": "2022-04-17T19:37:52.547481Z",
     "shell.execute_reply": "2022-04-17T19:37:52.546619Z",
     "shell.execute_reply.started": "2022-04-17T19:37:52.543087Z"
    }
   },
   "outputs": [],
   "source": [
    "test_dir = pathlib.Path(TEST_PATH)"
   ]
  },
  {
   "cell_type": "code",
   "execution_count": 70,
   "metadata": {
    "execution": {
     "iopub.execute_input": "2022-04-17T19:37:57.960336Z",
     "iopub.status.busy": "2022-04-17T19:37:57.960074Z",
     "iopub.status.idle": "2022-04-17T19:37:58.090081Z",
     "shell.execute_reply": "2022-04-17T19:37:58.089357Z",
     "shell.execute_reply.started": "2022-04-17T19:37:57.960305Z"
    }
   },
   "outputs": [
    {
     "name": "stdout",
     "output_type": "stream",
     "text": [
      "100 100\n",
      "100 200\n",
      "100 300\n",
      "100 400\n",
      "100 500\n",
      "100 600\n",
      "100 700\n",
      "100 800\n",
      "100 900\n"
     ]
    }
   ],
   "source": [
    "dfs = []\n",
    "total = 0\n",
    "\n",
    "for i in range(1,10):\n",
    "    image_path = pd.Series(list(test_dir.glob(f'{i}/*'))).astype(str)\n",
    "    \n",
    "    labels = pd.Series(np.full((len(image_path)), i))\n",
    "    \n",
    "    total += len(image_path)\n",
    "    print(len(image_path), total)\n",
    "    \n",
    "    dfs.append(pd.concat([image_path, labels], axis=1))"
   ]
  },
  {
   "cell_type": "code",
   "execution_count": 71,
   "metadata": {
    "execution": {
     "iopub.execute_input": "2022-04-17T19:38:05.210547Z",
     "iopub.status.busy": "2022-04-17T19:38:05.208352Z",
     "iopub.status.idle": "2022-04-17T19:38:05.217177Z",
     "shell.execute_reply": "2022-04-17T19:38:05.216428Z",
     "shell.execute_reply.started": "2022-04-17T19:38:05.210497Z"
    }
   },
   "outputs": [],
   "source": [
    "test_df = pd.concat(dfs, axis=0, ignore_index=True)\n",
    "test_df.columns = ['image_path', 'label']"
   ]
  },
  {
   "cell_type": "code",
   "execution_count": 72,
   "metadata": {
    "execution": {
     "iopub.execute_input": "2022-04-17T19:38:10.584332Z",
     "iopub.status.busy": "2022-04-17T19:38:10.584082Z",
     "iopub.status.idle": "2022-04-17T19:38:12.576826Z",
     "shell.execute_reply": "2022-04-17T19:38:12.576045Z",
     "shell.execute_reply.started": "2022-04-17T19:38:10.584302Z"
    }
   },
   "outputs": [
    {
     "name": "stdout",
     "output_type": "stream",
     "text": [
      "test_full_set.shape => (900, 108, 40, 1)\n",
      "test_full_labels.shape => (900,)\n"
     ]
    }
   ],
   "source": [
    "new_image_width = 40\n",
    "new_image_height = 108\n",
    "test_full_labels = test_df['label'].values\n",
    "test_full_set = np.empty((900, new_image_height, new_image_width, 1), dtype=np.float32)\n",
    "for idx, path in enumerate(test_df['image_path']):\n",
    "    img = cv2.imread(path, -1)\n",
    "    img = cv2.resize(img, (new_image_width, new_image_height), interpolation=cv2.INTER_NEAREST)\n",
    "    test_full_set[idx] = img.reshape(new_image_height, new_image_width, 1)\n",
    "    \n",
    "print('test_full_set.shape =>', test_full_set.shape)\n",
    "print('test_full_labels.shape =>', test_full_labels.shape)"
   ]
  },
  {
   "cell_type": "code",
   "execution_count": 73,
   "metadata": {
    "execution": {
     "iopub.execute_input": "2022-04-17T19:38:18.152927Z",
     "iopub.status.busy": "2022-04-17T19:38:18.150257Z",
     "iopub.status.idle": "2022-04-17T19:38:18.465612Z",
     "shell.execute_reply": "2022-04-17T19:38:18.464884Z",
     "shell.execute_reply.started": "2022-04-17T19:38:18.152893Z"
    }
   },
   "outputs": [],
   "source": [
    "y_pred = np.argmax(model.predict(test_full_set), axis=-1)"
   ]
  },
  {
   "cell_type": "code",
   "execution_count": 74,
   "metadata": {
    "execution": {
     "iopub.execute_input": "2022-04-17T19:38:23.445468Z",
     "iopub.status.busy": "2022-04-17T19:38:23.445182Z",
     "iopub.status.idle": "2022-04-17T19:38:23.451133Z",
     "shell.execute_reply": "2022-04-17T19:38:23.450176Z",
     "shell.execute_reply.started": "2022-04-17T19:38:23.445438Z"
    }
   },
   "outputs": [],
   "source": [
    "test_df['pred'] = y_pred"
   ]
  },
  {
   "cell_type": "code",
   "execution_count": 75,
   "metadata": {
    "execution": {
     "iopub.execute_input": "2022-04-17T19:38:27.897935Z",
     "iopub.status.busy": "2022-04-17T19:38:27.897671Z",
     "iopub.status.idle": "2022-04-17T19:38:27.903287Z",
     "shell.execute_reply": "2022-04-17T19:38:27.902597Z",
     "shell.execute_reply.started": "2022-04-17T19:38:27.897905Z"
    }
   },
   "outputs": [],
   "source": [
    "misses = test_df[test_df['label'] != test_df['pred']]"
   ]
  },
  {
   "cell_type": "code",
   "execution_count": 76,
   "metadata": {
    "execution": {
     "iopub.execute_input": "2022-04-17T19:38:33.764138Z",
     "iopub.status.busy": "2022-04-17T19:38:33.763885Z",
     "iopub.status.idle": "2022-04-17T19:38:33.772471Z",
     "shell.execute_reply": "2022-04-17T19:38:33.771778Z",
     "shell.execute_reply.started": "2022-04-17T19:38:33.764109Z"
    }
   },
   "outputs": [
    {
     "data": {
      "text/html": [
       "<div>\n",
       "<style scoped>\n",
       "    .dataframe tbody tr th:only-of-type {\n",
       "        vertical-align: middle;\n",
       "    }\n",
       "\n",
       "    .dataframe tbody tr th {\n",
       "        vertical-align: top;\n",
       "    }\n",
       "\n",
       "    .dataframe thead th {\n",
       "        text-align: right;\n",
       "    }\n",
       "</style>\n",
       "<table border=\"1\" class=\"dataframe\">\n",
       "  <thead>\n",
       "    <tr style=\"text-align: right;\">\n",
       "      <th></th>\n",
       "      <th>image_path</th>\n",
       "      <th>label</th>\n",
       "      <th>pred</th>\n",
       "    </tr>\n",
       "  </thead>\n",
       "  <tbody>\n",
       "    <tr>\n",
       "      <th>57</th>\n",
       "      <td>../data/raw/test/1/vaxalpr_732AAL_20201115_085...</td>\n",
       "      <td>1</td>\n",
       "      <td>9</td>\n",
       "    </tr>\n",
       "    <tr>\n",
       "      <th>157</th>\n",
       "      <td>../data/raw/test/2/vaxalpr_214AYT_20201113_111...</td>\n",
       "      <td>2</td>\n",
       "      <td>3</td>\n",
       "    </tr>\n",
       "    <tr>\n",
       "      <th>370</th>\n",
       "      <td>../data/raw/test/4/vaxalpr_214AYT_20201113_111...</td>\n",
       "      <td>4</td>\n",
       "      <td>7</td>\n",
       "    </tr>\n",
       "    <tr>\n",
       "      <th>488</th>\n",
       "      <td>../data/raw/test/5/vaxalpr_593LRT_20201116_122...</td>\n",
       "      <td>5</td>\n",
       "      <td>4</td>\n",
       "    </tr>\n",
       "  </tbody>\n",
       "</table>\n",
       "</div>"
      ],
      "text/plain": [
       "                                            image_path  label  pred\n",
       "57   ../data/raw/test/1/vaxalpr_732AAL_20201115_085...      1     9\n",
       "157  ../data/raw/test/2/vaxalpr_214AYT_20201113_111...      2     3\n",
       "370  ../data/raw/test/4/vaxalpr_214AYT_20201113_111...      4     7\n",
       "488  ../data/raw/test/5/vaxalpr_593LRT_20201116_122...      5     4"
      ]
     },
     "execution_count": 76,
     "metadata": {},
     "output_type": "execute_result"
    }
   ],
   "source": [
    "misses"
   ]
  },
  {
   "cell_type": "code",
   "execution_count": 77,
   "metadata": {
    "execution": {
     "iopub.execute_input": "2022-04-17T19:38:39.299482Z",
     "iopub.status.busy": "2022-04-17T19:38:39.298866Z",
     "iopub.status.idle": "2022-04-17T19:38:40.226909Z",
     "shell.execute_reply": "2022-04-17T19:38:40.226102Z",
     "shell.execute_reply.started": "2022-04-17T19:38:39.299446Z"
    }
   },
   "outputs": [
    {
     "name": "stdout",
     "output_type": "stream",
     "text": [
      "label:  1 , pred:  9\n"
     ]
    },
    {
     "data": {
      "image/png": "[encoded data removed]",
      "text/plain": [
       "<Figure size 640x480 with 1 Axes>"
      ]
     },
     "metadata": {},
     "output_type": "display_data"
    },
    {
     "name": "stdout",
     "output_type": "stream",
     "text": [
      "label:  2 , pred:  3\n"
     ]
    },
    {
     "data": {
      "image/png": "[encoded data removed]",
      "text/plain": [
       "<Figure size 640x480 with 1 Axes>"
      ]
     },
     "metadata": {},
     "output_type": "display_data"
    },
    {
     "name": "stdout",
     "output_type": "stream",
     "text": [
      "label:  4 , pred:  7\n"
     ]
    },
    {
     "data": {
      "image/png": "[encoded data removed]",
      "text/plain": [
       "<Figure size 640x480 with 1 Axes>"
      ]
     },
     "metadata": {},
     "output_type": "display_data"
    },
    {
     "name": "stdout",
     "output_type": "stream",
     "text": [
      "label:  5 , pred:  4\n"
     ]
    },
    {
     "data": {
      "image/png": "[encoded data removed]",
      "text/plain": [
       "<Figure size 640x480 with 1 Axes>"
      ]
     },
     "metadata": {},
     "output_type": "display_data"
    }
   ],
   "source": [
    "for i in range(len(misses)):\n",
    "    img = plt.imread(misses.iloc[i][0])\n",
    "    plt.imshow(img)\n",
    "    print('label: ', misses.iloc[i][1], ', pred: ', misses.iloc[i][2])\n",
    "    plt.show()"
   ]
  },
  {
   "cell_type": "code",
   "execution_count": null,
   "metadata": {},
   "outputs": [],
   "source": []
  }
 ],
 "metadata": {
  "kernelspec": {
   "display_name": "Python 3",
   "language": "python",
   "name": "python3"
  },
  "language_info": {
   "codemirror_mode": {
    "name": "ipython",
    "version": 3
   },
   "file_extension": ".py",
   "mimetype": "text/x-python",
   "name": "python",
   "nbconvert_exporter": "python",
   "pygments_lexer": "ipython3",
   "version": "3.8.10"
  }
 },
 "nbformat": 4,
 "nbformat_minor": 4
}
