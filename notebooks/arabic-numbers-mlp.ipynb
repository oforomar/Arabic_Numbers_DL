{
 "cells": [
  {
   "cell_type": "code",
   "execution_count": 1,
   "metadata": {
    "execution": {
     "iopub.execute_input": "2022-04-18T14:38:49.898031Z",
     "iopub.status.busy": "2022-04-18T14:38:49.897498Z",
     "iopub.status.idle": "2022-04-18T14:38:49.908811Z",
     "shell.execute_reply": "2022-04-18T14:38:49.907535Z",
     "shell.execute_reply.started": "2022-04-18T14:38:49.897988Z"
    }
   },
   "outputs": [],
   "source": [
    "TRAIN_PATH = '../data/raw/train/'\n",
    "TEST_PATH  = '../data/raw/test/'"
   ]
  },
  {
   "cell_type": "code",
   "execution_count": 2,
   "metadata": {
    "execution": {
     "iopub.execute_input": "2022-04-18T14:38:49.911457Z",
     "iopub.status.busy": "2022-04-18T14:38:49.910683Z",
     "iopub.status.idle": "2022-04-18T14:38:56.925451Z",
     "shell.execute_reply": "2022-04-18T14:38:56.924376Z",
     "shell.execute_reply.started": "2022-04-18T14:38:49.911396Z"
    }
   },
   "outputs": [],
   "source": [
    "import cv2\n",
    "import pathlib\n",
    "import tensorflow as tf\n",
    "import numpy as np\n",
    "import pandas as pd\n",
    "import matplotlib.pyplot as plt"
   ]
  },
  {
   "cell_type": "code",
   "execution_count": 3,
   "metadata": {
    "execution": {
     "iopub.execute_input": "2022-04-18T14:38:56.928186Z",
     "iopub.status.busy": "2022-04-18T14:38:56.927401Z",
     "iopub.status.idle": "2022-04-18T14:38:56.936301Z",
     "shell.execute_reply": "2022-04-18T14:38:56.935181Z",
     "shell.execute_reply.started": "2022-04-18T14:38:56.928150Z"
    }
   },
   "outputs": [],
   "source": [
    "data_dir = pathlib.Path(TRAIN_PATH)"
   ]
  },
  {
   "cell_type": "code",
   "execution_count": 4,
   "metadata": {
    "execution": {
     "iopub.execute_input": "2022-04-18T14:38:56.938560Z",
     "iopub.status.busy": "2022-04-18T14:38:56.938011Z",
     "iopub.status.idle": "2022-04-18T14:38:57.444726Z",
     "shell.execute_reply": "2022-04-18T14:38:57.443223Z",
     "shell.execute_reply.started": "2022-04-18T14:38:56.938493Z"
    }
   },
   "outputs": [
    {
     "name": "stdout",
     "output_type": "stream",
     "text": [
      "738 738\n",
      "636 1374\n",
      "621 1995\n",
      "582 2577\n",
      "379 2956\n",
      "427 3383\n",
      "389 3772\n",
      "394 4166\n",
      "463 4629\n"
     ]
    }
   ],
   "source": [
    "dfs = []\n",
    "total = 0\n",
    "\n",
    "for i in range(1,10):\n",
    "    image_path = pd.Series(list(data_dir.glob(f'{i}/*'))).astype(str)\n",
    "    \n",
    "    labels = pd.Series(np.full((len(image_path)), i))\n",
    "    \n",
    "    total += len(image_path)\n",
    "    print(len(image_path), total)\n",
    "    \n",
    "    dfs.append(pd.concat([image_path, labels], axis=1))"
   ]
  },
  {
   "cell_type": "code",
   "execution_count": 5,
   "metadata": {
    "execution": {
     "iopub.execute_input": "2022-04-18T14:38:57.447989Z",
     "iopub.status.busy": "2022-04-18T14:38:57.447556Z",
     "iopub.status.idle": "2022-04-18T14:38:57.459659Z",
     "shell.execute_reply": "2022-04-18T14:38:57.458601Z",
     "shell.execute_reply.started": "2022-04-18T14:38:57.447940Z"
    }
   },
   "outputs": [],
   "source": [
    "df = pd.concat(dfs, axis=0, ignore_index=True)"
   ]
  },
  {
   "cell_type": "code",
   "execution_count": 6,
   "metadata": {
    "execution": {
     "iopub.execute_input": "2022-04-18T14:38:57.461800Z",
     "iopub.status.busy": "2022-04-18T14:38:57.461072Z",
     "iopub.status.idle": "2022-04-18T14:38:57.469221Z",
     "shell.execute_reply": "2022-04-18T14:38:57.468311Z",
     "shell.execute_reply.started": "2022-04-18T14:38:57.461752Z"
    }
   },
   "outputs": [],
   "source": [
    "df.columns = ['image_path', 'label']"
   ]
  },
  {
   "cell_type": "code",
   "execution_count": 7,
   "metadata": {
    "execution": {
     "iopub.execute_input": "2022-04-18T14:38:57.471446Z",
     "iopub.status.busy": "2022-04-18T14:38:57.470806Z",
     "iopub.status.idle": "2022-04-18T14:38:57.479656Z",
     "shell.execute_reply": "2022-04-18T14:38:57.478568Z",
     "shell.execute_reply.started": "2022-04-18T14:38:57.471402Z"
    }
   },
   "outputs": [],
   "source": [
    "def read_shape(row):\n",
    "    # read image\n",
    "    img = cv2.imread(row[0], -1)\n",
    "    \n",
    "    # get shape\n",
    "    sh = img.shape\n",
    "    \n",
    "    return pd.Series(list(sh))"
   ]
  },
  {
   "cell_type": "code",
   "execution_count": 8,
   "metadata": {
    "execution": {
     "iopub.execute_input": "2022-04-18T14:38:57.482056Z",
     "iopub.status.busy": "2022-04-18T14:38:57.481690Z",
     "iopub.status.idle": "2022-04-18T14:39:12.686291Z",
     "shell.execute_reply": "2022-04-18T14:39:12.685347Z",
     "shell.execute_reply.started": "2022-04-18T14:38:57.482009Z"
    }
   },
   "outputs": [],
   "source": [
    "df[['height', 'width']] = df.apply(lambda row: read_shape(row), axis=1)"
   ]
  },
  {
   "cell_type": "code",
   "execution_count": 9,
   "metadata": {
    "execution": {
     "iopub.execute_input": "2022-04-18T14:39:12.687902Z",
     "iopub.status.busy": "2022-04-18T14:39:12.687605Z",
     "iopub.status.idle": "2022-04-18T14:39:12.694473Z",
     "shell.execute_reply": "2022-04-18T14:39:12.693341Z",
     "shell.execute_reply.started": "2022-04-18T14:39:12.687859Z"
    }
   },
   "outputs": [],
   "source": [
    "df['aspect ratio'] = df['width'] / df['height']"
   ]
  },
  {
   "cell_type": "code",
   "execution_count": 10,
   "metadata": {
    "execution": {
     "iopub.execute_input": "2022-04-18T14:39:12.696936Z",
     "iopub.status.busy": "2022-04-18T14:39:12.696380Z",
     "iopub.status.idle": "2022-04-18T14:39:12.852868Z",
     "shell.execute_reply": "2022-04-18T14:39:12.851571Z",
     "shell.execute_reply.started": "2022-04-18T14:39:12.696890Z"
    }
   },
   "outputs": [
    {
     "data": {
      "text/html": [
       "<div>\n",
       "<style scoped>\n",
       "    .dataframe tbody tr th:only-of-type {\n",
       "        vertical-align: middle;\n",
       "    }\n",
       "\n",
       "    .dataframe tbody tr th {\n",
       "        vertical-align: top;\n",
       "    }\n",
       "\n",
       "    .dataframe thead tr th {\n",
       "        text-align: left;\n",
       "    }\n",
       "\n",
       "    .dataframe thead tr:last-of-type th {\n",
       "        text-align: right;\n",
       "    }\n",
       "</style>\n",
       "<table border=\"1\" class=\"dataframe\">\n",
       "  <thead>\n",
       "    <tr>\n",
       "      <th></th>\n",
       "      <th colspan=\"8\" halign=\"left\">height</th>\n",
       "      <th colspan=\"5\" halign=\"left\">width</th>\n",
       "      <th colspan=\"8\" halign=\"left\">aspect ratio</th>\n",
       "    </tr>\n",
       "    <tr>\n",
       "      <th></th>\n",
       "      <th>count</th>\n",
       "      <th>mean</th>\n",
       "      <th>std</th>\n",
       "      <th>min</th>\n",
       "      <th>25%</th>\n",
       "      <th>50%</th>\n",
       "      <th>75%</th>\n",
       "      <th>max</th>\n",
       "      <th>count</th>\n",
       "      <th>mean</th>\n",
       "      <th>...</th>\n",
       "      <th>75%</th>\n",
       "      <th>max</th>\n",
       "      <th>count</th>\n",
       "      <th>mean</th>\n",
       "      <th>std</th>\n",
       "      <th>min</th>\n",
       "      <th>25%</th>\n",
       "      <th>50%</th>\n",
       "      <th>75%</th>\n",
       "      <th>max</th>\n",
       "    </tr>\n",
       "    <tr>\n",
       "      <th>label</th>\n",
       "      <th></th>\n",
       "      <th></th>\n",
       "      <th></th>\n",
       "      <th></th>\n",
       "      <th></th>\n",
       "      <th></th>\n",
       "      <th></th>\n",
       "      <th></th>\n",
       "      <th></th>\n",
       "      <th></th>\n",
       "      <th></th>\n",
       "      <th></th>\n",
       "      <th></th>\n",
       "      <th></th>\n",
       "      <th></th>\n",
       "      <th></th>\n",
       "      <th></th>\n",
       "      <th></th>\n",
       "      <th></th>\n",
       "      <th></th>\n",
       "      <th></th>\n",
       "    </tr>\n",
       "  </thead>\n",
       "  <tbody>\n",
       "    <tr>\n",
       "      <th>1</th>\n",
       "      <td>738.0</td>\n",
       "      <td>107.754743</td>\n",
       "      <td>14.261305</td>\n",
       "      <td>64.0</td>\n",
       "      <td>99.0</td>\n",
       "      <td>106.5</td>\n",
       "      <td>116.0</td>\n",
       "      <td>160.0</td>\n",
       "      <td>738.0</td>\n",
       "      <td>21.421409</td>\n",
       "      <td>...</td>\n",
       "      <td>22.0</td>\n",
       "      <td>62.0</td>\n",
       "      <td>738.0</td>\n",
       "      <td>0.200587</td>\n",
       "      <td>0.038924</td>\n",
       "      <td>0.105960</td>\n",
       "      <td>0.180551</td>\n",
       "      <td>0.194915</td>\n",
       "      <td>0.210526</td>\n",
       "      <td>0.568807</td>\n",
       "    </tr>\n",
       "    <tr>\n",
       "      <th>2</th>\n",
       "      <td>636.0</td>\n",
       "      <td>110.062893</td>\n",
       "      <td>16.172373</td>\n",
       "      <td>53.0</td>\n",
       "      <td>99.0</td>\n",
       "      <td>108.0</td>\n",
       "      <td>118.0</td>\n",
       "      <td>179.0</td>\n",
       "      <td>636.0</td>\n",
       "      <td>36.773585</td>\n",
       "      <td>...</td>\n",
       "      <td>39.0</td>\n",
       "      <td>61.0</td>\n",
       "      <td>636.0</td>\n",
       "      <td>0.338654</td>\n",
       "      <td>0.051445</td>\n",
       "      <td>0.175000</td>\n",
       "      <td>0.314683</td>\n",
       "      <td>0.339623</td>\n",
       "      <td>0.361702</td>\n",
       "      <td>0.698113</td>\n",
       "    </tr>\n",
       "    <tr>\n",
       "      <th>3</th>\n",
       "      <td>621.0</td>\n",
       "      <td>107.064412</td>\n",
       "      <td>14.092747</td>\n",
       "      <td>63.0</td>\n",
       "      <td>99.0</td>\n",
       "      <td>106.0</td>\n",
       "      <td>115.0</td>\n",
       "      <td>160.0</td>\n",
       "      <td>621.0</td>\n",
       "      <td>42.745572</td>\n",
       "      <td>...</td>\n",
       "      <td>46.0</td>\n",
       "      <td>61.0</td>\n",
       "      <td>621.0</td>\n",
       "      <td>0.404506</td>\n",
       "      <td>0.059117</td>\n",
       "      <td>0.263566</td>\n",
       "      <td>0.371681</td>\n",
       "      <td>0.401869</td>\n",
       "      <td>0.429825</td>\n",
       "      <td>0.714286</td>\n",
       "    </tr>\n",
       "    <tr>\n",
       "      <th>4</th>\n",
       "      <td>582.0</td>\n",
       "      <td>108.731959</td>\n",
       "      <td>14.344314</td>\n",
       "      <td>52.0</td>\n",
       "      <td>100.0</td>\n",
       "      <td>108.0</td>\n",
       "      <td>118.0</td>\n",
       "      <td>155.0</td>\n",
       "      <td>582.0</td>\n",
       "      <td>39.273196</td>\n",
       "      <td>...</td>\n",
       "      <td>42.0</td>\n",
       "      <td>64.0</td>\n",
       "      <td>582.0</td>\n",
       "      <td>0.364746</td>\n",
       "      <td>0.055205</td>\n",
       "      <td>0.163793</td>\n",
       "      <td>0.333333</td>\n",
       "      <td>0.370370</td>\n",
       "      <td>0.396040</td>\n",
       "      <td>0.565217</td>\n",
       "    </tr>\n",
       "    <tr>\n",
       "      <th>5</th>\n",
       "      <td>379.0</td>\n",
       "      <td>109.134565</td>\n",
       "      <td>16.300269</td>\n",
       "      <td>59.0</td>\n",
       "      <td>98.0</td>\n",
       "      <td>107.0</td>\n",
       "      <td>118.5</td>\n",
       "      <td>159.0</td>\n",
       "      <td>379.0</td>\n",
       "      <td>35.955145</td>\n",
       "      <td>...</td>\n",
       "      <td>38.0</td>\n",
       "      <td>55.0</td>\n",
       "      <td>379.0</td>\n",
       "      <td>0.335602</td>\n",
       "      <td>0.050648</td>\n",
       "      <td>0.225352</td>\n",
       "      <td>0.308372</td>\n",
       "      <td>0.336634</td>\n",
       "      <td>0.357895</td>\n",
       "      <td>0.593750</td>\n",
       "    </tr>\n",
       "    <tr>\n",
       "      <th>6</th>\n",
       "      <td>427.0</td>\n",
       "      <td>107.437939</td>\n",
       "      <td>15.516696</td>\n",
       "      <td>53.0</td>\n",
       "      <td>98.0</td>\n",
       "      <td>106.0</td>\n",
       "      <td>116.0</td>\n",
       "      <td>159.0</td>\n",
       "      <td>427.0</td>\n",
       "      <td>40.707260</td>\n",
       "      <td>...</td>\n",
       "      <td>43.0</td>\n",
       "      <td>57.0</td>\n",
       "      <td>427.0</td>\n",
       "      <td>0.384827</td>\n",
       "      <td>0.058887</td>\n",
       "      <td>0.200000</td>\n",
       "      <td>0.353492</td>\n",
       "      <td>0.383838</td>\n",
       "      <td>0.408248</td>\n",
       "      <td>0.735849</td>\n",
       "    </tr>\n",
       "    <tr>\n",
       "      <th>7</th>\n",
       "      <td>389.0</td>\n",
       "      <td>108.627249</td>\n",
       "      <td>14.913060</td>\n",
       "      <td>59.0</td>\n",
       "      <td>99.0</td>\n",
       "      <td>107.0</td>\n",
       "      <td>116.0</td>\n",
       "      <td>202.0</td>\n",
       "      <td>389.0</td>\n",
       "      <td>43.329049</td>\n",
       "      <td>...</td>\n",
       "      <td>46.0</td>\n",
       "      <td>78.0</td>\n",
       "      <td>389.0</td>\n",
       "      <td>0.403864</td>\n",
       "      <td>0.054205</td>\n",
       "      <td>0.194690</td>\n",
       "      <td>0.379630</td>\n",
       "      <td>0.398305</td>\n",
       "      <td>0.428571</td>\n",
       "      <td>0.703125</td>\n",
       "    </tr>\n",
       "    <tr>\n",
       "      <th>8</th>\n",
       "      <td>394.0</td>\n",
       "      <td>109.708122</td>\n",
       "      <td>14.670203</td>\n",
       "      <td>76.0</td>\n",
       "      <td>99.0</td>\n",
       "      <td>108.0</td>\n",
       "      <td>117.0</td>\n",
       "      <td>160.0</td>\n",
       "      <td>394.0</td>\n",
       "      <td>41.469543</td>\n",
       "      <td>...</td>\n",
       "      <td>44.0</td>\n",
       "      <td>60.0</td>\n",
       "      <td>394.0</td>\n",
       "      <td>0.382227</td>\n",
       "      <td>0.043244</td>\n",
       "      <td>0.254902</td>\n",
       "      <td>0.359459</td>\n",
       "      <td>0.385896</td>\n",
       "      <td>0.406250</td>\n",
       "      <td>0.542169</td>\n",
       "    </tr>\n",
       "    <tr>\n",
       "      <th>9</th>\n",
       "      <td>463.0</td>\n",
       "      <td>108.224622</td>\n",
       "      <td>13.757378</td>\n",
       "      <td>59.0</td>\n",
       "      <td>100.0</td>\n",
       "      <td>107.0</td>\n",
       "      <td>116.0</td>\n",
       "      <td>150.0</td>\n",
       "      <td>463.0</td>\n",
       "      <td>40.889849</td>\n",
       "      <td>...</td>\n",
       "      <td>43.0</td>\n",
       "      <td>64.0</td>\n",
       "      <td>463.0</td>\n",
       "      <td>0.381779</td>\n",
       "      <td>0.045083</td>\n",
       "      <td>0.204724</td>\n",
       "      <td>0.357798</td>\n",
       "      <td>0.380952</td>\n",
       "      <td>0.400000</td>\n",
       "      <td>0.610169</td>\n",
       "    </tr>\n",
       "  </tbody>\n",
       "</table>\n",
       "<p>9 rows × 24 columns</p>\n",
       "</div>"
      ],
      "text/plain": [
       "      height                                                           width  \\\n",
       "       count        mean        std   min    25%    50%    75%    max  count   \n",
       "label                                                                          \n",
       "1      738.0  107.754743  14.261305  64.0   99.0  106.5  116.0  160.0  738.0   \n",
       "2      636.0  110.062893  16.172373  53.0   99.0  108.0  118.0  179.0  636.0   \n",
       "3      621.0  107.064412  14.092747  63.0   99.0  106.0  115.0  160.0  621.0   \n",
       "4      582.0  108.731959  14.344314  52.0  100.0  108.0  118.0  155.0  582.0   \n",
       "5      379.0  109.134565  16.300269  59.0   98.0  107.0  118.5  159.0  379.0   \n",
       "6      427.0  107.437939  15.516696  53.0   98.0  106.0  116.0  159.0  427.0   \n",
       "7      389.0  108.627249  14.913060  59.0   99.0  107.0  116.0  202.0  389.0   \n",
       "8      394.0  109.708122  14.670203  76.0   99.0  108.0  117.0  160.0  394.0   \n",
       "9      463.0  108.224622  13.757378  59.0  100.0  107.0  116.0  150.0  463.0   \n",
       "\n",
       "                  ...             aspect ratio                                \\\n",
       "            mean  ...   75%   max        count      mean       std       min   \n",
       "label             ...                                                          \n",
       "1      21.421409  ...  22.0  62.0        738.0  0.200587  0.038924  0.105960   \n",
       "2      36.773585  ...  39.0  61.0        636.0  0.338654  0.051445  0.175000   \n",
       "3      42.745572  ...  46.0  61.0        621.0  0.404506  0.059117  0.263566   \n",
       "4      39.273196  ...  42.0  64.0        582.0  0.364746  0.055205  0.163793   \n",
       "5      35.955145  ...  38.0  55.0        379.0  0.335602  0.050648  0.225352   \n",
       "6      40.707260  ...  43.0  57.0        427.0  0.384827  0.058887  0.200000   \n",
       "7      43.329049  ...  46.0  78.0        389.0  0.403864  0.054205  0.194690   \n",
       "8      41.469543  ...  44.0  60.0        394.0  0.382227  0.043244  0.254902   \n",
       "9      40.889849  ...  43.0  64.0        463.0  0.381779  0.045083  0.204724   \n",
       "\n",
       "                                               \n",
       "            25%       50%       75%       max  \n",
       "label                                          \n",
       "1      0.180551  0.194915  0.210526  0.568807  \n",
       "2      0.314683  0.339623  0.361702  0.698113  \n",
       "3      0.371681  0.401869  0.429825  0.714286  \n",
       "4      0.333333  0.370370  0.396040  0.565217  \n",
       "5      0.308372  0.336634  0.357895  0.593750  \n",
       "6      0.353492  0.383838  0.408248  0.735849  \n",
       "7      0.379630  0.398305  0.428571  0.703125  \n",
       "8      0.359459  0.385896  0.406250  0.542169  \n",
       "9      0.357798  0.380952  0.400000  0.610169  \n",
       "\n",
       "[9 rows x 24 columns]"
      ]
     },
     "execution_count": 10,
     "metadata": {},
     "output_type": "execute_result"
    }
   ],
   "source": [
    "df.groupby('label').describe()"
   ]
  },
  {
   "cell_type": "code",
   "execution_count": 11,
   "metadata": {
    "execution": {
     "iopub.execute_input": "2022-04-18T14:39:12.857111Z",
     "iopub.status.busy": "2022-04-18T14:39:12.856706Z",
     "iopub.status.idle": "2022-04-18T14:39:12.892664Z",
     "shell.execute_reply": "2022-04-18T14:39:12.891576Z",
     "shell.execute_reply.started": "2022-04-18T14:39:12.857066Z"
    }
   },
   "outputs": [
    {
     "data": {
      "text/html": [
       "<div>\n",
       "<style scoped>\n",
       "    .dataframe tbody tr th:only-of-type {\n",
       "        vertical-align: middle;\n",
       "    }\n",
       "\n",
       "    .dataframe tbody tr th {\n",
       "        vertical-align: top;\n",
       "    }\n",
       "\n",
       "    .dataframe thead th {\n",
       "        text-align: right;\n",
       "    }\n",
       "</style>\n",
       "<table border=\"1\" class=\"dataframe\">\n",
       "  <thead>\n",
       "    <tr style=\"text-align: right;\">\n",
       "      <th></th>\n",
       "      <th>count</th>\n",
       "      <th>mean</th>\n",
       "      <th>std</th>\n",
       "      <th>min</th>\n",
       "      <th>25%</th>\n",
       "      <th>50%</th>\n",
       "      <th>75%</th>\n",
       "      <th>max</th>\n",
       "    </tr>\n",
       "  </thead>\n",
       "  <tbody>\n",
       "    <tr>\n",
       "      <th>label</th>\n",
       "      <td>4629.0</td>\n",
       "      <td>4.471808</td>\n",
       "      <td>2.639520</td>\n",
       "      <td>1.00000</td>\n",
       "      <td>2.000000</td>\n",
       "      <td>4.000000</td>\n",
       "      <td>7.000000</td>\n",
       "      <td>9.000000</td>\n",
       "    </tr>\n",
       "    <tr>\n",
       "      <th>height</th>\n",
       "      <td>4629.0</td>\n",
       "      <td>108.472456</td>\n",
       "      <td>14.878445</td>\n",
       "      <td>52.00000</td>\n",
       "      <td>99.000000</td>\n",
       "      <td>107.000000</td>\n",
       "      <td>117.000000</td>\n",
       "      <td>202.000000</td>\n",
       "    </tr>\n",
       "    <tr>\n",
       "      <th>width</th>\n",
       "      <td>4629.0</td>\n",
       "      <td>37.099590</td>\n",
       "      <td>8.491328</td>\n",
       "      <td>14.00000</td>\n",
       "      <td>34.000000</td>\n",
       "      <td>39.000000</td>\n",
       "      <td>43.000000</td>\n",
       "      <td>78.000000</td>\n",
       "    </tr>\n",
       "    <tr>\n",
       "      <th>aspect ratio</th>\n",
       "      <td>4629.0</td>\n",
       "      <td>0.346268</td>\n",
       "      <td>0.084521</td>\n",
       "      <td>0.10596</td>\n",
       "      <td>0.308943</td>\n",
       "      <td>0.362637</td>\n",
       "      <td>0.397959</td>\n",
       "      <td>0.735849</td>\n",
       "    </tr>\n",
       "  </tbody>\n",
       "</table>\n",
       "</div>"
      ],
      "text/plain": [
       "               count        mean        std       min        25%         50%  \\\n",
       "label         4629.0    4.471808   2.639520   1.00000   2.000000    4.000000   \n",
       "height        4629.0  108.472456  14.878445  52.00000  99.000000  107.000000   \n",
       "width         4629.0   37.099590   8.491328  14.00000  34.000000   39.000000   \n",
       "aspect ratio  4629.0    0.346268   0.084521   0.10596   0.308943    0.362637   \n",
       "\n",
       "                     75%         max  \n",
       "label           7.000000    9.000000  \n",
       "height        117.000000  202.000000  \n",
       "width          43.000000   78.000000  \n",
       "aspect ratio    0.397959    0.735849  "
      ]
     },
     "execution_count": 11,
     "metadata": {},
     "output_type": "execute_result"
    }
   ],
   "source": [
    "df.describe().T"
   ]
  },
  {
   "cell_type": "code",
   "execution_count": 12,
   "metadata": {
    "execution": {
     "iopub.execute_input": "2022-04-18T14:39:12.894615Z",
     "iopub.status.busy": "2022-04-18T14:39:12.894238Z",
     "iopub.status.idle": "2022-04-18T14:39:17.797195Z",
     "shell.execute_reply": "2022-04-18T14:39:17.796208Z",
     "shell.execute_reply.started": "2022-04-18T14:39:12.894572Z"
    }
   },
   "outputs": [],
   "source": [
    "#new_image_width = 40//2\n",
    "#new_image_height = 108//2\n",
    "#size = len(df)\n",
    "#train_full_labels = df['label'].values\n",
    "#train_full_set = np.empty((size, new_image_height, new_image_width, 1), dtype=np.float32)\n",
    "#\n",
    "#for idx, path in enumerate(df['image_path']):\n",
    "#    img = cv2.imread(path, -1)\n",
    "#    img = cv2.resize(img, (new_image_width, new_image_height), interpolation=cv2.INTER_NEAREST)\n",
    "#    train_full_set[idx] = img.reshape(new_image_height, new_image_width, 1)\n",
    "#    \n",
    "#\n",
    "#print('train_full_set.shape =>', train_full_set.shape)\n",
    "#print('train_full_labels.shape =>', train_full_labels.shape)"
   ]
  },
  {
   "cell_type": "code",
   "execution_count": 12,
   "metadata": {},
   "outputs": [
    {
     "data": {
      "text/html": [
       "<div>\n",
       "<style scoped>\n",
       "    .dataframe tbody tr th:only-of-type {\n",
       "        vertical-align: middle;\n",
       "    }\n",
       "\n",
       "    .dataframe tbody tr th {\n",
       "        vertical-align: top;\n",
       "    }\n",
       "\n",
       "    .dataframe thead th {\n",
       "        text-align: right;\n",
       "    }\n",
       "</style>\n",
       "<table border=\"1\" class=\"dataframe\">\n",
       "  <thead>\n",
       "    <tr style=\"text-align: right;\">\n",
       "      <th></th>\n",
       "      <th>image_path</th>\n",
       "      <th>label</th>\n",
       "      <th>height</th>\n",
       "      <th>width</th>\n",
       "      <th>aspect ratio</th>\n",
       "    </tr>\n",
       "  </thead>\n",
       "  <tbody>\n",
       "    <tr>\n",
       "      <th>0</th>\n",
       "      <td>../data/raw/train/1/vaxalpr_1125NRT_20201111_1...</td>\n",
       "      <td>1</td>\n",
       "      <td>103</td>\n",
       "      <td>20</td>\n",
       "      <td>0.194175</td>\n",
       "    </tr>\n",
       "    <tr>\n",
       "      <th>1</th>\n",
       "      <td>../data/raw/train/1/vaxalpr_1798DRT_20201114_0...</td>\n",
       "      <td>1</td>\n",
       "      <td>83</td>\n",
       "      <td>17</td>\n",
       "      <td>0.204819</td>\n",
       "    </tr>\n",
       "    <tr>\n",
       "      <th>2</th>\n",
       "      <td>../data/raw/train/1/vaxalpr_1941FRT_20201110_1...</td>\n",
       "      <td>1</td>\n",
       "      <td>106</td>\n",
       "      <td>20</td>\n",
       "      <td>0.188679</td>\n",
       "    </tr>\n",
       "    <tr>\n",
       "      <th>3</th>\n",
       "      <td>../data/raw/train/1/vaxalpr_1998YRT_20201110_1...</td>\n",
       "      <td>1</td>\n",
       "      <td>106</td>\n",
       "      <td>21</td>\n",
       "      <td>0.198113</td>\n",
       "    </tr>\n",
       "    <tr>\n",
       "      <th>4</th>\n",
       "      <td>../data/raw/train/1/vaxalpr_2319YRT_20201116_1...</td>\n",
       "      <td>1</td>\n",
       "      <td>91</td>\n",
       "      <td>18</td>\n",
       "      <td>0.197802</td>\n",
       "    </tr>\n",
       "    <tr>\n",
       "      <th>...</th>\n",
       "      <td>...</td>\n",
       "      <td>...</td>\n",
       "      <td>...</td>\n",
       "      <td>...</td>\n",
       "      <td>...</td>\n",
       "    </tr>\n",
       "    <tr>\n",
       "      <th>4495</th>\n",
       "      <td>../data/raw/train/9/vaxalpr_1293MRT_20201116_0...</td>\n",
       "      <td>9</td>\n",
       "      <td>106</td>\n",
       "      <td>36</td>\n",
       "      <td>0.339623</td>\n",
       "    </tr>\n",
       "    <tr>\n",
       "      <th>4496</th>\n",
       "      <td>../data/raw/train/9/vaxalpr_2962LRT_20201114_1...</td>\n",
       "      <td>9</td>\n",
       "      <td>91</td>\n",
       "      <td>37</td>\n",
       "      <td>0.406593</td>\n",
       "    </tr>\n",
       "    <tr>\n",
       "      <th>4497</th>\n",
       "      <td>../data/raw/train/9/vaxalpr_2798TMB_20201110_1...</td>\n",
       "      <td>9</td>\n",
       "      <td>103</td>\n",
       "      <td>40</td>\n",
       "      <td>0.388350</td>\n",
       "    </tr>\n",
       "    <tr>\n",
       "      <th>4498</th>\n",
       "      <td>../data/raw/train/9/vaxalpr_2179YRT_20201115_0...</td>\n",
       "      <td>9</td>\n",
       "      <td>92</td>\n",
       "      <td>38</td>\n",
       "      <td>0.413043</td>\n",
       "    </tr>\n",
       "    <tr>\n",
       "      <th>4499</th>\n",
       "      <td>../data/raw/train/9/vaxalpr_2913GRT_20201110_0...</td>\n",
       "      <td>9</td>\n",
       "      <td>104</td>\n",
       "      <td>36</td>\n",
       "      <td>0.346154</td>\n",
       "    </tr>\n",
       "  </tbody>\n",
       "</table>\n",
       "<p>4500 rows × 5 columns</p>\n",
       "</div>"
      ],
      "text/plain": [
       "                                             image_path  label  height  width  \\\n",
       "0     ../data/raw/train/1/vaxalpr_1125NRT_20201111_1...      1     103     20   \n",
       "1     ../data/raw/train/1/vaxalpr_1798DRT_20201114_0...      1      83     17   \n",
       "2     ../data/raw/train/1/vaxalpr_1941FRT_20201110_1...      1     106     20   \n",
       "3     ../data/raw/train/1/vaxalpr_1998YRT_20201110_1...      1     106     21   \n",
       "4     ../data/raw/train/1/vaxalpr_2319YRT_20201116_1...      1      91     18   \n",
       "...                                                 ...    ...     ...    ...   \n",
       "4495  ../data/raw/train/9/vaxalpr_1293MRT_20201116_0...      9     106     36   \n",
       "4496  ../data/raw/train/9/vaxalpr_2962LRT_20201114_1...      9      91     37   \n",
       "4497  ../data/raw/train/9/vaxalpr_2798TMB_20201110_1...      9     103     40   \n",
       "4498  ../data/raw/train/9/vaxalpr_2179YRT_20201115_0...      9      92     38   \n",
       "4499  ../data/raw/train/9/vaxalpr_2913GRT_20201110_0...      9     104     36   \n",
       "\n",
       "      aspect ratio  \n",
       "0         0.194175  \n",
       "1         0.204819  \n",
       "2         0.188679  \n",
       "3         0.198113  \n",
       "4         0.197802  \n",
       "...            ...  \n",
       "4495      0.339623  \n",
       "4496      0.406593  \n",
       "4497      0.388350  \n",
       "4498      0.413043  \n",
       "4499      0.346154  \n",
       "\n",
       "[4500 rows x 5 columns]"
      ]
     },
     "execution_count": 12,
     "metadata": {},
     "output_type": "execute_result"
    }
   ],
   "source": [
    "train = []\n",
    "\n",
    "for i in range(1, 10):\n",
    "    train.append(df[df['label'] == i].sample(500, replace=True))\n",
    "    \n",
    "traindf = pd.concat(train, axis=0, ignore_index=True)\n",
    "traindf"
   ]
  },
  {
   "cell_type": "code",
   "execution_count": 13,
   "metadata": {
    "execution": {
     "iopub.execute_input": "2022-04-18T15:27:16.605798Z",
     "iopub.status.busy": "2022-04-18T15:27:16.605452Z",
     "iopub.status.idle": "2022-04-18T15:27:25.157285Z",
     "shell.execute_reply": "2022-04-18T15:27:25.156253Z",
     "shell.execute_reply.started": "2022-04-18T15:27:16.605764Z"
    }
   },
   "outputs": [
    {
     "name": "stdout",
     "output_type": "stream",
     "text": [
      "train_full_set.shape => (4500, 54, 20, 1)\n",
      "train_full_labels.shape => (4500,)\n"
     ]
    }
   ],
   "source": [
    "new_image_width = 40//2\n",
    "new_image_height = 108//2\n",
    "size = len(traindf)\n",
    "kernel = cv2.getStructuringElement(cv2.MORPH_ELLIPSE,(3,1))\n",
    "train_full_labels = traindf['label'].values\n",
    "train_full_set = np.empty((size, new_image_height, new_image_width, 1), dtype=np.float32)\n",
    "\n",
    "for idx, path in enumerate(traindf['image_path']):\n",
    "    img = cv2.imread(path, -1)\n",
    "    img = cv2.resize(img, (new_image_width, new_image_height), interpolation=cv2.INTER_NEAREST)\n",
    "    \n",
    "    opening = cv2.morphologyEx(img, cv2.MORPH_OPEN, kernel)\n",
    "    closing = cv2.morphologyEx(opening, cv2.MORPH_CLOSE, kernel)\n",
    "    final = cv2.morphologyEx(closing, cv2.MORPH_OPEN, kernel)\n",
    "\n",
    "    train_full_set[idx] = final.reshape(new_image_height, new_image_width, 1)\n",
    "\n",
    "print('train_full_set.shape =>', train_full_set.shape)\n",
    "print('train_full_labels.shape =>', train_full_labels.shape)"
   ]
  },
  {
   "cell_type": "code",
   "execution_count": 15,
   "metadata": {
    "execution": {
     "iopub.execute_input": "2022-04-18T15:24:52.705784Z",
     "iopub.status.busy": "2022-04-18T15:24:52.704677Z",
     "iopub.status.idle": "2022-04-18T15:24:53.250372Z",
     "shell.execute_reply": "2022-04-18T15:24:53.249419Z",
     "shell.execute_reply.started": "2022-04-18T15:24:52.705737Z"
    }
   },
   "outputs": [
    {
     "data": {
      "image/png": "[encoded data removed]",
      "text/plain": [
       "<Figure size 1000x300 with 4 Axes>"
      ]
     },
     "metadata": {},
     "output_type": "display_data"
    }
   ],
   "source": [
    "#kernel = np.ones((3,1),np.uint8)\n",
    "kernel = cv2.getStructuringElement(cv2.MORPH_ELLIPSE,(3,1))\n",
    "\n",
    "img = train_full_set[1391]\n",
    "opening = cv2.morphologyEx(img, cv2.MORPH_OPEN, kernel)\n",
    "closing = cv2.morphologyEx(opening, cv2.MORPH_CLOSE, kernel)\n",
    "final = cv2.morphologyEx(closing, cv2.MORPH_OPEN, kernel)\n",
    "\n",
    "fig, ax = plt.subplots(1, 4, figsize=(10, 3))\n",
    "ax[0].imshow(img)\n",
    "ax[1].imshow(opening)\n",
    "ax[2].imshow(closing)\n",
    "ax[3].imshow(final)\n",
    "plt.show()"
   ]
  },
  {
   "cell_type": "code",
   "execution_count": 16,
   "metadata": {
    "execution": {
     "iopub.execute_input": "2022-04-18T15:27:31.896118Z",
     "iopub.status.busy": "2022-04-18T15:27:31.895743Z",
     "iopub.status.idle": "2022-04-18T15:27:31.918150Z",
     "shell.execute_reply": "2022-04-18T15:27:31.917178Z",
     "shell.execute_reply.started": "2022-04-18T15:27:31.896085Z"
    }
   },
   "outputs": [
    {
     "name": "stdout",
     "output_type": "stream",
     "text": [
      "X_train.shape => (4275, 54, 20, 1)\n",
      "X_valid.shape => (225, 54, 20, 1)\n",
      "y_train.shape => (4275,)\n",
      "y_valid.shape => (225,)\n"
     ]
    }
   ],
   "source": [
    "from sklearn.model_selection import train_test_split\n",
    "X_train, X_valid, y_train, y_valid = train_test_split(train_full_set, train_full_labels, \n",
    "                                                      test_size=0.05, shuffle=True, random_state=42)\n",
    "\n",
    "print('X_train.shape =>', X_train.shape)\n",
    "print('X_valid.shape =>', X_valid.shape)\n",
    "print('y_train.shape =>', y_train.shape)\n",
    "print('y_valid.shape =>', y_valid.shape)"
   ]
  },
  {
   "cell_type": "code",
   "execution_count": 31,
   "metadata": {
    "execution": {
     "iopub.execute_input": "2022-04-18T14:41:26.483100Z",
     "iopub.status.busy": "2022-04-18T14:41:26.482347Z",
     "iopub.status.idle": "2022-04-18T14:41:26.488902Z",
     "shell.execute_reply": "2022-04-18T14:41:26.487673Z",
     "shell.execute_reply.started": "2022-04-18T14:41:26.483063Z"
    }
   },
   "outputs": [],
   "source": [
    "datagen = tf.keras.preprocessing.image.ImageDataGenerator(\n",
    "    #rescale=1./255,\n",
    "    shear_range=0.2,\n",
    "    zoom_range=0.2,\n",
    "    rotation_range=20,\n",
    "    width_shift_range=0.2,\n",
    "    height_shift_range=0.2,\n",
    "    horizontal_flip=False,\n",
    "    validation_split=0)"
   ]
  },
  {
   "cell_type": "code",
   "execution_count": 17,
   "metadata": {
    "execution": {
     "iopub.execute_input": "2022-04-18T15:27:36.246924Z",
     "iopub.status.busy": "2022-04-18T15:27:36.246027Z",
     "iopub.status.idle": "2022-04-18T15:27:36.332097Z",
     "shell.execute_reply": "2022-04-18T15:27:36.331053Z",
     "shell.execute_reply.started": "2022-04-18T15:27:36.246884Z"
    }
   },
   "outputs": [],
   "source": [
    "model = tf.keras.Sequential([\n",
    "    \n",
    "    tf.keras.layers.Flatten(input_shape=[108//2, 40//2]),\n",
    "    tf.keras.layers.Rescaling(1./255),\n",
    "    tf.keras.layers.Dense(512, activation='relu'),\n",
    "    tf.keras.layers.BatchNormalization(),\n",
    "    tf.keras.layers.Dropout(0.5),\n",
    "    tf.keras.layers.Dense(256, activation='relu'),\n",
    "    tf.keras.layers.BatchNormalization(),\n",
    "    tf.keras.layers.Dropout(0.5),\n",
    "    tf.keras.layers.Dense(100, activation='relu'),\n",
    "    tf.keras.layers.BatchNormalization(),\n",
    "    tf.keras.layers.Dropout(0.5),\n",
    "    tf.keras.layers.Dense(10, activation='softmax')\n",
    "\n",
    "])"
   ]
  },
  {
   "cell_type": "code",
   "execution_count": 18,
   "metadata": {
    "execution": {
     "iopub.execute_input": "2022-04-18T15:27:39.166624Z",
     "iopub.status.busy": "2022-04-18T15:27:39.165788Z",
     "iopub.status.idle": "2022-04-18T15:27:39.182563Z",
     "shell.execute_reply": "2022-04-18T15:27:39.181686Z",
     "shell.execute_reply.started": "2022-04-18T15:27:39.166573Z"
    }
   },
   "outputs": [
    {
     "name": "stdout",
     "output_type": "stream",
     "text": [
      "Model: \"sequential\"\n",
      "_________________________________________________________________\n",
      " Layer (type)                Output Shape              Param #   \n",
      "=================================================================\n",
      " flatten (Flatten)           (None, 1080)              0         \n",
      "                                                                 \n",
      " rescaling (Rescaling)       (None, 1080)              0         \n",
      "                                                                 \n",
      " dense (Dense)               (None, 512)               553472    \n",
      "                                                                 \n",
      " batch_normalization (BatchN  (None, 512)              2048      \n",
      " ormalization)                                                   \n",
      "                                                                 \n",
      " dropout (Dropout)           (None, 512)               0         \n",
      "                                                                 \n",
      " dense_1 (Dense)             (None, 256)               131328    \n",
      "                                                                 \n",
      " batch_normalization_1 (Batc  (None, 256)              1024      \n",
      " hNormalization)                                                 \n",
      "                                                                 \n",
      " dropout_1 (Dropout)         (None, 256)               0         \n",
      "                                                                 \n",
      " dense_2 (Dense)             (None, 100)               25700     \n",
      "                                                                 \n",
      " batch_normalization_2 (Batc  (None, 100)              400       \n",
      " hNormalization)                                                 \n",
      "                                                                 \n",
      " dropout_2 (Dropout)         (None, 100)               0         \n",
      "                                                                 \n",
      " dense_3 (Dense)             (None, 10)                1010      \n",
      "                                                                 \n",
      "=================================================================\n",
      "Total params: 714,982\n",
      "Trainable params: 713,246\n",
      "Non-trainable params: 1,736\n",
      "_________________________________________________________________\n"
     ]
    }
   ],
   "source": [
    "model.summary()"
   ]
  },
  {
   "cell_type": "code",
   "execution_count": 19,
   "metadata": {
    "execution": {
     "iopub.execute_input": "2022-04-18T15:27:41.821188Z",
     "iopub.status.busy": "2022-04-18T15:27:41.820920Z",
     "iopub.status.idle": "2022-04-18T15:27:41.834932Z",
     "shell.execute_reply": "2022-04-18T15:27:41.833120Z",
     "shell.execute_reply.started": "2022-04-18T15:27:41.821159Z"
    }
   },
   "outputs": [],
   "source": [
    "model.compile(optimizer='adam', loss='sparse_categorical_crossentropy', metrics=['accuracy'])"
   ]
  },
  {
   "cell_type": "code",
   "execution_count": 20,
   "metadata": {
    "execution": {
     "iopub.execute_input": "2022-04-18T15:27:43.002223Z",
     "iopub.status.busy": "2022-04-18T15:27:43.001643Z",
     "iopub.status.idle": "2022-04-18T15:28:24.781006Z",
     "shell.execute_reply": "2022-04-18T15:28:24.779955Z",
     "shell.execute_reply.started": "2022-04-18T15:27:43.002187Z"
    }
   },
   "outputs": [
    {
     "name": "stdout",
     "output_type": "stream",
     "text": [
      "Epoch 1/100\n",
      "134/134 [==============================] - 2s 5ms/step - loss: 0.5956 - accuracy: 0.8260 - val_loss: 0.1223 - val_accuracy: 0.9644\n",
      "Epoch 2/100\n",
      "134/134 [==============================] - 0s 4ms/step - loss: 0.1986 - accuracy: 0.9460 - val_loss: 0.0820 - val_accuracy: 0.9733\n",
      "Epoch 3/100\n",
      "134/134 [==============================] - 0s 4ms/step - loss: 0.1448 - accuracy: 0.9637 - val_loss: 0.0694 - val_accuracy: 0.9778\n",
      "Epoch 4/100\n",
      "134/134 [==============================] - 0s 4ms/step - loss: 0.1239 - accuracy: 0.9677 - val_loss: 0.0713 - val_accuracy: 0.9911\n",
      "Epoch 5/100\n",
      "134/134 [==============================] - 0s 4ms/step - loss: 0.0978 - accuracy: 0.9724 - val_loss: 0.0415 - val_accuracy: 0.9867\n",
      "Epoch 6/100\n",
      "134/134 [==============================] - 0s 4ms/step - loss: 0.0835 - accuracy: 0.9773 - val_loss: 0.0501 - val_accuracy: 0.9867\n",
      "Epoch 7/100\n",
      "134/134 [==============================] - 0s 4ms/step - loss: 0.0677 - accuracy: 0.9801 - val_loss: 0.0522 - val_accuracy: 0.9911\n",
      "Epoch 8/100\n",
      "134/134 [==============================] - 0s 4ms/step - loss: 0.0634 - accuracy: 0.9827 - val_loss: 0.0454 - val_accuracy: 0.9867\n",
      "Epoch 9/100\n",
      "134/134 [==============================] - 0s 4ms/step - loss: 0.0593 - accuracy: 0.9834 - val_loss: 0.0612 - val_accuracy: 0.9911\n",
      "Epoch 10/100\n",
      "134/134 [==============================] - 1s 4ms/step - loss: 0.0444 - accuracy: 0.9867 - val_loss: 0.0402 - val_accuracy: 0.9956\n",
      "Epoch 11/100\n",
      "134/134 [==============================] - 0s 4ms/step - loss: 0.0440 - accuracy: 0.9895 - val_loss: 0.0512 - val_accuracy: 0.9911\n",
      "Epoch 12/100\n",
      "134/134 [==============================] - 0s 4ms/step - loss: 0.0409 - accuracy: 0.9881 - val_loss: 0.0367 - val_accuracy: 0.9956\n",
      "Epoch 13/100\n",
      "134/134 [==============================] - 0s 4ms/step - loss: 0.0377 - accuracy: 0.9874 - val_loss: 0.0337 - val_accuracy: 0.9956\n",
      "Epoch 14/100\n",
      "134/134 [==============================] - 0s 4ms/step - loss: 0.0378 - accuracy: 0.9895 - val_loss: 0.0450 - val_accuracy: 0.9911\n",
      "Epoch 15/100\n",
      "134/134 [==============================] - 0s 4ms/step - loss: 0.0340 - accuracy: 0.9906 - val_loss: 0.0316 - val_accuracy: 0.9911\n",
      "Epoch 16/100\n",
      "134/134 [==============================] - 0s 4ms/step - loss: 0.0337 - accuracy: 0.9909 - val_loss: 0.0320 - val_accuracy: 0.9956\n",
      "Epoch 17/100\n",
      "134/134 [==============================] - 0s 4ms/step - loss: 0.0286 - accuracy: 0.9925 - val_loss: 0.0326 - val_accuracy: 0.9911\n",
      "Epoch 18/100\n",
      "134/134 [==============================] - 0s 4ms/step - loss: 0.0265 - accuracy: 0.9935 - val_loss: 0.0420 - val_accuracy: 0.9911\n",
      "Epoch 19/100\n",
      "134/134 [==============================] - 0s 4ms/step - loss: 0.0250 - accuracy: 0.9932 - val_loss: 0.0500 - val_accuracy: 0.9956\n",
      "Epoch 20/100\n",
      "134/134 [==============================] - 1s 4ms/step - loss: 0.0346 - accuracy: 0.9897 - val_loss: 0.0431 - val_accuracy: 0.9911\n",
      "Epoch 21/100\n",
      "134/134 [==============================] - 0s 4ms/step - loss: 0.0262 - accuracy: 0.9918 - val_loss: 0.0444 - val_accuracy: 0.9956\n",
      "Epoch 22/100\n",
      "134/134 [==============================] - 1s 4ms/step - loss: 0.0256 - accuracy: 0.9923 - val_loss: 0.0561 - val_accuracy: 0.9911\n",
      "Epoch 23/100\n",
      "134/134 [==============================] - 0s 4ms/step - loss: 0.0280 - accuracy: 0.9918 - val_loss: 0.0570 - val_accuracy: 0.9956\n",
      "Epoch 24/100\n",
      "134/134 [==============================] - 1s 4ms/step - loss: 0.0305 - accuracy: 0.9925 - val_loss: 0.0681 - val_accuracy: 0.9911\n",
      "Epoch 25/100\n",
      "134/134 [==============================] - 0s 4ms/step - loss: 0.0224 - accuracy: 0.9935 - val_loss: 0.0675 - val_accuracy: 0.9867\n",
      "Epoch 26/100\n",
      "134/134 [==============================] - 0s 4ms/step - loss: 0.0239 - accuracy: 0.9925 - val_loss: 0.0603 - val_accuracy: 0.9911\n",
      "Epoch 27/100\n",
      "134/134 [==============================] - 1s 4ms/step - loss: 0.0264 - accuracy: 0.9920 - val_loss: 0.0678 - val_accuracy: 0.9911\n",
      "Epoch 28/100\n",
      "134/134 [==============================] - 0s 4ms/step - loss: 0.0179 - accuracy: 0.9946 - val_loss: 0.0478 - val_accuracy: 0.9956\n",
      "Epoch 29/100\n",
      "134/134 [==============================] - 0s 4ms/step - loss: 0.0291 - accuracy: 0.9916 - val_loss: 0.0492 - val_accuracy: 0.9911\n",
      "Epoch 30/100\n",
      "134/134 [==============================] - 0s 4ms/step - loss: 0.0179 - accuracy: 0.9946 - val_loss: 0.0707 - val_accuracy: 0.9911\n",
      "Epoch 31/100\n",
      "134/134 [==============================] - 1s 4ms/step - loss: 0.0249 - accuracy: 0.9920 - val_loss: 0.0415 - val_accuracy: 0.9956\n",
      "Epoch 32/100\n",
      "134/134 [==============================] - 0s 4ms/step - loss: 0.0232 - accuracy: 0.9927 - val_loss: 0.0718 - val_accuracy: 0.9911\n",
      "Epoch 33/100\n",
      "134/134 [==============================] - 0s 4ms/step - loss: 0.0203 - accuracy: 0.9937 - val_loss: 0.0487 - val_accuracy: 0.9911\n",
      "Epoch 34/100\n",
      "134/134 [==============================] - 1s 4ms/step - loss: 0.0185 - accuracy: 0.9942 - val_loss: 0.0553 - val_accuracy: 0.9956\n",
      "Epoch 35/100\n",
      "134/134 [==============================] - 1s 4ms/step - loss: 0.0179 - accuracy: 0.9930 - val_loss: 0.0412 - val_accuracy: 0.9956\n",
      "Epoch 36/100\n",
      "134/134 [==============================] - 0s 4ms/step - loss: 0.0206 - accuracy: 0.9927 - val_loss: 0.0534 - val_accuracy: 0.9956\n",
      "Epoch 37/100\n",
      "134/134 [==============================] - 0s 4ms/step - loss: 0.0189 - accuracy: 0.9956 - val_loss: 0.0721 - val_accuracy: 0.9911\n",
      "Epoch 38/100\n",
      "134/134 [==============================] - 1s 4ms/step - loss: 0.0192 - accuracy: 0.9937 - val_loss: 0.0545 - val_accuracy: 0.9956\n",
      "Epoch 39/100\n",
      "134/134 [==============================] - 1s 4ms/step - loss: 0.0199 - accuracy: 0.9930 - val_loss: 0.0358 - val_accuracy: 0.9956\n",
      "Epoch 40/100\n",
      "134/134 [==============================] - 0s 4ms/step - loss: 0.0121 - accuracy: 0.9958 - val_loss: 0.0416 - val_accuracy: 0.9911\n",
      "Epoch 41/100\n",
      "134/134 [==============================] - 1s 4ms/step - loss: 0.0260 - accuracy: 0.9920 - val_loss: 0.0291 - val_accuracy: 0.9956\n",
      "Epoch 42/100\n",
      "134/134 [==============================] - 1s 4ms/step - loss: 0.0131 - accuracy: 0.9935 - val_loss: 0.0256 - val_accuracy: 0.9956\n",
      "Epoch 43/100\n",
      "134/134 [==============================] - 1s 4ms/step - loss: 0.0262 - accuracy: 0.9916 - val_loss: 0.0323 - val_accuracy: 0.9956\n",
      "Epoch 44/100\n",
      "134/134 [==============================] - 0s 4ms/step - loss: 0.0199 - accuracy: 0.9946 - val_loss: 0.0288 - val_accuracy: 0.9956\n",
      "Epoch 45/100\n",
      "134/134 [==============================] - 0s 4ms/step - loss: 0.0165 - accuracy: 0.9953 - val_loss: 0.0182 - val_accuracy: 0.9956\n",
      "Epoch 46/100\n",
      "134/134 [==============================] - 0s 4ms/step - loss: 0.0154 - accuracy: 0.9953 - val_loss: 0.0229 - val_accuracy: 0.9911\n",
      "Epoch 47/100\n",
      "134/134 [==============================] - 0s 4ms/step - loss: 0.0166 - accuracy: 0.9944 - val_loss: 0.0448 - val_accuracy: 0.9911\n",
      "Epoch 48/100\n",
      "134/134 [==============================] - 1s 4ms/step - loss: 0.0162 - accuracy: 0.9958 - val_loss: 0.0388 - val_accuracy: 0.9911\n",
      "Epoch 49/100\n",
      "134/134 [==============================] - 0s 4ms/step - loss: 0.0167 - accuracy: 0.9949 - val_loss: 0.0454 - val_accuracy: 0.9867\n",
      "Epoch 50/100\n",
      "134/134 [==============================] - 1s 4ms/step - loss: 0.0142 - accuracy: 0.9960 - val_loss: 0.0379 - val_accuracy: 0.9956\n",
      "Epoch 51/100\n",
      "134/134 [==============================] - 0s 4ms/step - loss: 0.0161 - accuracy: 0.9953 - val_loss: 0.0341 - val_accuracy: 0.9911\n",
      "Epoch 52/100\n",
      "134/134 [==============================] - 0s 4ms/step - loss: 0.0229 - accuracy: 0.9942 - val_loss: 0.0256 - val_accuracy: 0.9956\n",
      "Epoch 53/100\n",
      "134/134 [==============================] - 0s 4ms/step - loss: 0.0125 - accuracy: 0.9965 - val_loss: 0.0245 - val_accuracy: 0.9956\n",
      "Epoch 54/100\n",
      "134/134 [==============================] - 0s 4ms/step - loss: 0.0111 - accuracy: 0.9974 - val_loss: 0.0214 - val_accuracy: 0.9956\n",
      "Epoch 55/100\n",
      "134/134 [==============================] - 0s 4ms/step - loss: 0.0108 - accuracy: 0.9972 - val_loss: 0.0152 - val_accuracy: 0.9956\n",
      "Epoch 56/100\n",
      "134/134 [==============================] - 1s 4ms/step - loss: 0.0106 - accuracy: 0.9965 - val_loss: 0.0447 - val_accuracy: 0.9911\n",
      "Epoch 57/100\n",
      "134/134 [==============================] - 1s 4ms/step - loss: 0.0110 - accuracy: 0.9970 - val_loss: 0.0337 - val_accuracy: 0.9956\n"
     ]
    },
    {
     "name": "stdout",
     "output_type": "stream",
     "text": [
      "Epoch 58/100\n",
      "134/134 [==============================] - 0s 4ms/step - loss: 0.0153 - accuracy: 0.9963 - val_loss: 0.0531 - val_accuracy: 0.9911\n",
      "Epoch 59/100\n",
      "134/134 [==============================] - 1s 4ms/step - loss: 0.0082 - accuracy: 0.9972 - val_loss: 0.0375 - val_accuracy: 0.9956\n",
      "Epoch 60/100\n",
      "134/134 [==============================] - 0s 4ms/step - loss: 0.0137 - accuracy: 0.9967 - val_loss: 0.0402 - val_accuracy: 0.9911\n",
      "Epoch 61/100\n",
      "134/134 [==============================] - 0s 4ms/step - loss: 0.0106 - accuracy: 0.9967 - val_loss: 0.0465 - val_accuracy: 0.9911\n",
      "Epoch 62/100\n",
      "134/134 [==============================] - 0s 4ms/step - loss: 0.0165 - accuracy: 0.9944 - val_loss: 0.0553 - val_accuracy: 0.9956\n",
      "Epoch 63/100\n",
      "134/134 [==============================] - 1s 4ms/step - loss: 0.0157 - accuracy: 0.9963 - val_loss: 0.0338 - val_accuracy: 0.9956\n",
      "Epoch 64/100\n",
      "134/134 [==============================] - 0s 4ms/step - loss: 0.0178 - accuracy: 0.9949 - val_loss: 0.0352 - val_accuracy: 0.9956\n",
      "Epoch 65/100\n",
      "134/134 [==============================] - 1s 4ms/step - loss: 0.0114 - accuracy: 0.9958 - val_loss: 0.0410 - val_accuracy: 0.9956\n",
      "Epoch 66/100\n",
      "134/134 [==============================] - 1s 4ms/step - loss: 0.0188 - accuracy: 0.9949 - val_loss: 0.0387 - val_accuracy: 0.9956\n",
      "Epoch 67/100\n",
      "134/134 [==============================] - 1s 4ms/step - loss: 0.0114 - accuracy: 0.9960 - val_loss: 0.0436 - val_accuracy: 0.9911\n",
      "Epoch 68/100\n",
      "134/134 [==============================] - 0s 4ms/step - loss: 0.0127 - accuracy: 0.9958 - val_loss: 0.0401 - val_accuracy: 0.9911\n",
      "Epoch 69/100\n",
      "134/134 [==============================] - 1s 4ms/step - loss: 0.0091 - accuracy: 0.9963 - val_loss: 0.0325 - val_accuracy: 0.9956\n",
      "Epoch 70/100\n",
      "134/134 [==============================] - 0s 4ms/step - loss: 0.0104 - accuracy: 0.9967 - val_loss: 0.0412 - val_accuracy: 0.9911\n",
      "Epoch 71/100\n",
      "134/134 [==============================] - 1s 4ms/step - loss: 0.0095 - accuracy: 0.9967 - val_loss: 0.0592 - val_accuracy: 0.9867\n",
      "Epoch 72/100\n",
      "134/134 [==============================] - 0s 4ms/step - loss: 0.0111 - accuracy: 0.9965 - val_loss: 0.0493 - val_accuracy: 0.9911\n",
      "Epoch 73/100\n",
      "134/134 [==============================] - 0s 4ms/step - loss: 0.0109 - accuracy: 0.9965 - val_loss: 0.0499 - val_accuracy: 0.9911\n",
      "Epoch 74/100\n",
      "134/134 [==============================] - 1s 4ms/step - loss: 0.0062 - accuracy: 0.9972 - val_loss: 0.0455 - val_accuracy: 0.9911\n",
      "Epoch 75/100\n",
      "134/134 [==============================] - 0s 4ms/step - loss: 0.0093 - accuracy: 0.9974 - val_loss: 0.0467 - val_accuracy: 0.9911\n",
      "Epoch 76/100\n",
      "134/134 [==============================] - 0s 4ms/step - loss: 0.0112 - accuracy: 0.9953 - val_loss: 0.0486 - val_accuracy: 0.9956\n",
      "Epoch 77/100\n",
      "134/134 [==============================] - 0s 4ms/step - loss: 0.0114 - accuracy: 0.9967 - val_loss: 0.0484 - val_accuracy: 0.9956\n",
      "Epoch 78/100\n",
      "134/134 [==============================] - 0s 4ms/step - loss: 0.0052 - accuracy: 0.9979 - val_loss: 0.0480 - val_accuracy: 0.9956\n",
      "Epoch 79/100\n",
      "134/134 [==============================] - 1s 4ms/step - loss: 0.0115 - accuracy: 0.9965 - val_loss: 0.0493 - val_accuracy: 0.9911\n",
      "Epoch 80/100\n",
      "134/134 [==============================] - 0s 4ms/step - loss: 0.0101 - accuracy: 0.9963 - val_loss: 0.0676 - val_accuracy: 0.9911\n",
      "Epoch 81/100\n",
      "134/134 [==============================] - 0s 4ms/step - loss: 0.0064 - accuracy: 0.9979 - val_loss: 0.0461 - val_accuracy: 0.9911\n",
      "Epoch 82/100\n",
      "134/134 [==============================] - 0s 4ms/step - loss: 0.0055 - accuracy: 0.9981 - val_loss: 0.0720 - val_accuracy: 0.9867\n",
      "Epoch 83/100\n",
      "134/134 [==============================] - 1s 4ms/step - loss: 0.0075 - accuracy: 0.9974 - val_loss: 0.0732 - val_accuracy: 0.9911\n",
      "Epoch 84/100\n",
      "134/134 [==============================] - 0s 4ms/step - loss: 0.0074 - accuracy: 0.9979 - val_loss: 0.0572 - val_accuracy: 0.9911\n",
      "Epoch 85/100\n",
      "134/134 [==============================] - 0s 4ms/step - loss: 0.0077 - accuracy: 0.9984 - val_loss: 0.0707 - val_accuracy: 0.9911\n",
      "Epoch 86/100\n",
      "134/134 [==============================] - 1s 4ms/step - loss: 0.0088 - accuracy: 0.9963 - val_loss: 0.0484 - val_accuracy: 0.9911\n",
      "Epoch 87/100\n",
      "134/134 [==============================] - 0s 4ms/step - loss: 0.0058 - accuracy: 0.9984 - val_loss: 0.0419 - val_accuracy: 0.9956\n",
      "Epoch 88/100\n",
      "134/134 [==============================] - 1s 4ms/step - loss: 0.0111 - accuracy: 0.9965 - val_loss: 0.0433 - val_accuracy: 0.9956\n",
      "Epoch 89/100\n",
      "134/134 [==============================] - 0s 4ms/step - loss: 0.0097 - accuracy: 0.9979 - val_loss: 0.0348 - val_accuracy: 0.9956\n",
      "Epoch 90/100\n",
      "134/134 [==============================] - 0s 4ms/step - loss: 0.0100 - accuracy: 0.9977 - val_loss: 0.0337 - val_accuracy: 0.9956\n",
      "Epoch 91/100\n",
      "134/134 [==============================] - 1s 4ms/step - loss: 0.0100 - accuracy: 0.9958 - val_loss: 0.0381 - val_accuracy: 0.9911\n",
      "Epoch 92/100\n",
      "134/134 [==============================] - 0s 4ms/step - loss: 0.0101 - accuracy: 0.9972 - val_loss: 0.0426 - val_accuracy: 0.9911\n",
      "Epoch 93/100\n",
      "134/134 [==============================] - 0s 4ms/step - loss: 0.0080 - accuracy: 0.9979 - val_loss: 0.0325 - val_accuracy: 0.9956\n",
      "Epoch 94/100\n",
      "134/134 [==============================] - 0s 4ms/step - loss: 0.0124 - accuracy: 0.9960 - val_loss: 0.0550 - val_accuracy: 0.9911\n",
      "Epoch 95/100\n",
      "134/134 [==============================] - 1s 4ms/step - loss: 0.0112 - accuracy: 0.9967 - val_loss: 0.0538 - val_accuracy: 0.9911\n",
      "Epoch 96/100\n",
      "134/134 [==============================] - 0s 4ms/step - loss: 0.0097 - accuracy: 0.9974 - val_loss: 0.0275 - val_accuracy: 0.9956\n",
      "Epoch 97/100\n",
      "134/134 [==============================] - 0s 4ms/step - loss: 0.0191 - accuracy: 0.9956 - val_loss: 0.0412 - val_accuracy: 0.9956\n",
      "Epoch 98/100\n",
      "134/134 [==============================] - 1s 4ms/step - loss: 0.0092 - accuracy: 0.9972 - val_loss: 0.0393 - val_accuracy: 0.9956\n",
      "Epoch 99/100\n",
      "134/134 [==============================] - 0s 4ms/step - loss: 0.0161 - accuracy: 0.9953 - val_loss: 0.0391 - val_accuracy: 0.9956\n",
      "Epoch 100/100\n",
      "134/134 [==============================] - 1s 4ms/step - loss: 0.0128 - accuracy: 0.9953 - val_loss: 0.0460 - val_accuracy: 0.9956\n"
     ]
    }
   ],
   "source": [
    "history = model.fit(\n",
    "    X_train, y_train,\n",
    "    validation_data=(X_valid, y_valid),\n",
    "    epochs=100)"
   ]
  },
  {
   "cell_type": "code",
   "execution_count": 32,
   "metadata": {},
   "outputs": [
    {
     "name": "stdout",
     "output_type": "stream",
     "text": [
      "Epoch 1/100\n",
      "WARNING:tensorflow:Model was constructed with shape (None, 54, 20) for input KerasTensor(type_spec=TensorSpec(shape=(None, 54, 20), dtype=tf.float32, name='flatten_input'), name='flatten_input', description=\"created by layer 'flatten_input'\"), but it was called on an input with incompatible shape (None, None, None, None).\n",
      "131/134 [============================>.] - ETA: 0s - loss: 1.7295 - accuracy: 0.6375WARNING:tensorflow:Model was constructed with shape (None, 54, 20) for input KerasTensor(type_spec=TensorSpec(shape=(None, 54, 20), dtype=tf.float32, name='flatten_input'), name='flatten_input', description=\"created by layer 'flatten_input'\"), but it was called on an input with incompatible shape (None, None, None, None).\n",
      "134/134 [==============================] - 2s 12ms/step - loss: 1.7201 - accuracy: 0.6365 - val_loss: 0.6246 - val_accuracy: 0.8000\n",
      "Epoch 2/100\n",
      "134/134 [==============================] - 1s 10ms/step - loss: 0.9060 - accuracy: 0.7130 - val_loss: 0.4632 - val_accuracy: 0.8489\n",
      "Epoch 3/100\n",
      "134/134 [==============================] - 1s 10ms/step - loss: 0.7948 - accuracy: 0.7523 - val_loss: 0.3944 - val_accuracy: 0.8444\n",
      "Epoch 4/100\n",
      "134/134 [==============================] - 1s 11ms/step - loss: 0.7288 - accuracy: 0.7665 - val_loss: 0.3924 - val_accuracy: 0.8711\n",
      "Epoch 5/100\n",
      "134/134 [==============================] - 1s 11ms/step - loss: 0.6638 - accuracy: 0.7946 - val_loss: 0.3541 - val_accuracy: 0.8711\n",
      "Epoch 6/100\n",
      "134/134 [==============================] - 1s 11ms/step - loss: 0.5944 - accuracy: 0.8133 - val_loss: 0.3141 - val_accuracy: 0.9156\n",
      "Epoch 7/100\n",
      "134/134 [==============================] - 1s 10ms/step - loss: 0.5614 - accuracy: 0.8306 - val_loss: 0.3079 - val_accuracy: 0.8978\n",
      "Epoch 8/100\n",
      "134/134 [==============================] - 1s 11ms/step - loss: 0.5385 - accuracy: 0.8297 - val_loss: 0.3164 - val_accuracy: 0.9111\n",
      "Epoch 9/100\n",
      "134/134 [==============================] - 1s 10ms/step - loss: 0.5535 - accuracy: 0.8363 - val_loss: 0.2987 - val_accuracy: 0.9200\n",
      "Epoch 10/100\n",
      "134/134 [==============================] - 1s 10ms/step - loss: 0.5204 - accuracy: 0.8332 - val_loss: 0.3021 - val_accuracy: 0.9111\n",
      "Epoch 11/100\n",
      "134/134 [==============================] - 1s 11ms/step - loss: 0.4752 - accuracy: 0.8524 - val_loss: 0.2525 - val_accuracy: 0.9333\n",
      "Epoch 12/100\n",
      "134/134 [==============================] - 1s 10ms/step - loss: 0.4857 - accuracy: 0.8496 - val_loss: 0.2251 - val_accuracy: 0.9422\n",
      "Epoch 13/100\n",
      "134/134 [==============================] - 1s 11ms/step - loss: 0.4572 - accuracy: 0.8564 - val_loss: 0.2030 - val_accuracy: 0.9422\n",
      "Epoch 14/100\n",
      "134/134 [==============================] - 1s 10ms/step - loss: 0.4496 - accuracy: 0.8611 - val_loss: 0.1728 - val_accuracy: 0.9333\n",
      "Epoch 15/100\n",
      "134/134 [==============================] - 1s 11ms/step - loss: 0.4372 - accuracy: 0.8692 - val_loss: 0.2154 - val_accuracy: 0.9289\n",
      "Epoch 16/100\n",
      "134/134 [==============================] - 1s 10ms/step - loss: 0.4521 - accuracy: 0.8596 - val_loss: 0.1755 - val_accuracy: 0.9378\n",
      "Epoch 17/100\n",
      "134/134 [==============================] - 1s 11ms/step - loss: 0.4423 - accuracy: 0.8606 - val_loss: 0.1989 - val_accuracy: 0.9333\n",
      "Epoch 18/100\n",
      "134/134 [==============================] - 1s 11ms/step - loss: 0.4158 - accuracy: 0.8697 - val_loss: 0.2156 - val_accuracy: 0.9289\n",
      "Epoch 19/100\n",
      "134/134 [==============================] - 1s 11ms/step - loss: 0.3927 - accuracy: 0.8791 - val_loss: 0.1949 - val_accuracy: 0.9333\n",
      "Epoch 20/100\n",
      "134/134 [==============================] - 1s 11ms/step - loss: 0.4087 - accuracy: 0.8685 - val_loss: 0.1481 - val_accuracy: 0.9600\n",
      "Epoch 21/100\n",
      "134/134 [==============================] - 1s 11ms/step - loss: 0.4264 - accuracy: 0.8742 - val_loss: 0.1903 - val_accuracy: 0.9200\n",
      "Epoch 22/100\n",
      "134/134 [==============================] - 1s 11ms/step - loss: 0.4169 - accuracy: 0.8711 - val_loss: 0.1154 - val_accuracy: 0.9689\n",
      "Epoch 23/100\n",
      "134/134 [==============================] - 1s 10ms/step - loss: 0.3862 - accuracy: 0.8814 - val_loss: 0.0968 - val_accuracy: 0.9733\n",
      "Epoch 24/100\n",
      "134/134 [==============================] - 1s 11ms/step - loss: 0.3639 - accuracy: 0.8875 - val_loss: 0.1560 - val_accuracy: 0.9556\n",
      "Epoch 25/100\n",
      "134/134 [==============================] - 1s 10ms/step - loss: 0.3702 - accuracy: 0.8835 - val_loss: 0.1288 - val_accuracy: 0.9467\n",
      "Epoch 26/100\n",
      "134/134 [==============================] - 1s 11ms/step - loss: 0.3576 - accuracy: 0.8926 - val_loss: 0.1224 - val_accuracy: 0.9689\n",
      "Epoch 27/100\n",
      "134/134 [==============================] - 1s 11ms/step - loss: 0.3806 - accuracy: 0.8844 - val_loss: 0.1495 - val_accuracy: 0.9689\n",
      "Epoch 28/100\n",
      "134/134 [==============================] - 1s 11ms/step - loss: 0.3970 - accuracy: 0.8788 - val_loss: 0.1730 - val_accuracy: 0.9378\n",
      "Epoch 29/100\n",
      "134/134 [==============================] - 1s 10ms/step - loss: 0.3787 - accuracy: 0.8858 - val_loss: 0.1535 - val_accuracy: 0.9467\n",
      "Epoch 30/100\n",
      "134/134 [==============================] - 1s 11ms/step - loss: 0.3447 - accuracy: 0.8950 - val_loss: 0.1153 - val_accuracy: 0.9689\n",
      "Epoch 31/100\n",
      "134/134 [==============================] - 1s 11ms/step - loss: 0.3411 - accuracy: 0.8938 - val_loss: 0.1216 - val_accuracy: 0.9689\n",
      "Epoch 32/100\n",
      "134/134 [==============================] - 1s 10ms/step - loss: 0.3520 - accuracy: 0.8889 - val_loss: 0.1138 - val_accuracy: 0.9600\n",
      "Epoch 33/100\n",
      "134/134 [==============================] - 1s 11ms/step - loss: 0.3543 - accuracy: 0.8926 - val_loss: 0.1632 - val_accuracy: 0.9467\n",
      "Epoch 34/100\n",
      "134/134 [==============================] - 1s 11ms/step - loss: 0.3452 - accuracy: 0.8943 - val_loss: 0.1176 - val_accuracy: 0.9644\n",
      "Epoch 35/100\n",
      "134/134 [==============================] - 2s 11ms/step - loss: 0.3499 - accuracy: 0.8938 - val_loss: 0.1299 - val_accuracy: 0.9689\n",
      "Epoch 36/100\n",
      "134/134 [==============================] - 1s 11ms/step - loss: 0.3299 - accuracy: 0.8978 - val_loss: 0.1696 - val_accuracy: 0.9333\n",
      "Epoch 37/100\n",
      "134/134 [==============================] - 1s 11ms/step - loss: 0.3311 - accuracy: 0.8999 - val_loss: 0.1634 - val_accuracy: 0.9467\n",
      "Epoch 38/100\n",
      "134/134 [==============================] - 1s 10ms/step - loss: 0.3522 - accuracy: 0.8917 - val_loss: 0.0660 - val_accuracy: 0.9733\n",
      "Epoch 39/100\n",
      "134/134 [==============================] - 1s 11ms/step - loss: 0.3384 - accuracy: 0.8933 - val_loss: 0.1643 - val_accuracy: 0.9600\n",
      "Epoch 40/100\n",
      "134/134 [==============================] - 1s 11ms/step - loss: 0.3418 - accuracy: 0.8940 - val_loss: 0.0910 - val_accuracy: 0.9733\n",
      "Epoch 41/100\n",
      "134/134 [==============================] - 1s 11ms/step - loss: 0.3376 - accuracy: 0.8903 - val_loss: 0.1354 - val_accuracy: 0.9467\n",
      "Epoch 42/100\n",
      "134/134 [==============================] - 1s 11ms/step - loss: 0.3180 - accuracy: 0.9046 - val_loss: 0.1140 - val_accuracy: 0.9689\n",
      "Epoch 43/100\n",
      "134/134 [==============================] - 1s 11ms/step - loss: 0.3420 - accuracy: 0.8945 - val_loss: 0.1176 - val_accuracy: 0.9600\n",
      "Epoch 44/100\n",
      "134/134 [==============================] - 1s 11ms/step - loss: 0.3494 - accuracy: 0.8947 - val_loss: 0.1031 - val_accuracy: 0.9733\n",
      "Epoch 45/100\n",
      "134/134 [==============================] - 1s 11ms/step - loss: 0.3116 - accuracy: 0.9060 - val_loss: 0.1204 - val_accuracy: 0.9778\n",
      "Epoch 46/100\n",
      "134/134 [==============================] - 1s 11ms/step - loss: 0.3282 - accuracy: 0.8994 - val_loss: 0.1109 - val_accuracy: 0.9733\n",
      "Epoch 47/100\n",
      "134/134 [==============================] - 1s 11ms/step - loss: 0.3141 - accuracy: 0.9020 - val_loss: 0.0634 - val_accuracy: 0.9822\n",
      "Epoch 48/100\n",
      "134/134 [==============================] - 1s 11ms/step - loss: 0.3489 - accuracy: 0.8987 - val_loss: 0.1100 - val_accuracy: 0.9733\n",
      "Epoch 49/100\n",
      "134/134 [==============================] - 1s 11ms/step - loss: 0.3143 - accuracy: 0.9029 - val_loss: 0.0630 - val_accuracy: 0.9778\n",
      "Epoch 50/100\n",
      "134/134 [==============================] - 1s 11ms/step - loss: 0.3177 - accuracy: 0.9032 - val_loss: 0.0798 - val_accuracy: 0.9733\n",
      "Epoch 51/100\n",
      "134/134 [==============================] - 1s 11ms/step - loss: 0.3055 - accuracy: 0.9069 - val_loss: 0.0894 - val_accuracy: 0.9644\n",
      "Epoch 52/100\n"
     ]
    },
    {
     "name": "stdout",
     "output_type": "stream",
     "text": [
      "134/134 [==============================] - 1s 11ms/step - loss: 0.2895 - accuracy: 0.9092 - val_loss: 0.1016 - val_accuracy: 0.9689\n",
      "Epoch 53/100\n",
      "134/134 [==============================] - 1s 10ms/step - loss: 0.3080 - accuracy: 0.9057 - val_loss: 0.1399 - val_accuracy: 0.9600\n",
      "Epoch 54/100\n",
      "134/134 [==============================] - 1s 10ms/step - loss: 0.3338 - accuracy: 0.8968 - val_loss: 0.1423 - val_accuracy: 0.9644\n",
      "Epoch 55/100\n",
      "134/134 [==============================] - 1s 10ms/step - loss: 0.3151 - accuracy: 0.9004 - val_loss: 0.0795 - val_accuracy: 0.9778\n",
      "Epoch 56/100\n",
      "134/134 [==============================] - 1s 11ms/step - loss: 0.3032 - accuracy: 0.9137 - val_loss: 0.1521 - val_accuracy: 0.9600\n",
      "Epoch 57/100\n",
      "134/134 [==============================] - 1s 11ms/step - loss: 0.3095 - accuracy: 0.9088 - val_loss: 0.1142 - val_accuracy: 0.9644\n",
      "Epoch 58/100\n",
      "134/134 [==============================] - 1s 11ms/step - loss: 0.2874 - accuracy: 0.9109 - val_loss: 0.1629 - val_accuracy: 0.9467\n",
      "Epoch 59/100\n",
      "134/134 [==============================] - 1s 11ms/step - loss: 0.3059 - accuracy: 0.9029 - val_loss: 0.0532 - val_accuracy: 0.9911\n",
      "Epoch 60/100\n",
      "134/134 [==============================] - 1s 11ms/step - loss: 0.2878 - accuracy: 0.9127 - val_loss: 0.1057 - val_accuracy: 0.9689\n",
      "Epoch 61/100\n",
      "134/134 [==============================] - 1s 11ms/step - loss: 0.2765 - accuracy: 0.9158 - val_loss: 0.1027 - val_accuracy: 0.9689\n",
      "Epoch 62/100\n",
      "134/134 [==============================] - 1s 10ms/step - loss: 0.2718 - accuracy: 0.9177 - val_loss: 0.0484 - val_accuracy: 0.9822\n",
      "Epoch 63/100\n",
      "134/134 [==============================] - 1s 10ms/step - loss: 0.3018 - accuracy: 0.9088 - val_loss: 0.0777 - val_accuracy: 0.9644\n",
      "Epoch 64/100\n",
      "134/134 [==============================] - 1s 10ms/step - loss: 0.3049 - accuracy: 0.9135 - val_loss: 0.0787 - val_accuracy: 0.9778\n",
      "Epoch 65/100\n",
      "134/134 [==============================] - 1s 11ms/step - loss: 0.2894 - accuracy: 0.9142 - val_loss: 0.0811 - val_accuracy: 0.9689\n",
      "Epoch 66/100\n",
      "134/134 [==============================] - 1s 11ms/step - loss: 0.3089 - accuracy: 0.9076 - val_loss: 0.0963 - val_accuracy: 0.9644\n",
      "Epoch 67/100\n",
      "134/134 [==============================] - 1s 10ms/step - loss: 0.2953 - accuracy: 0.9113 - val_loss: 0.0842 - val_accuracy: 0.9778\n",
      "Epoch 68/100\n",
      "134/134 [==============================] - 1s 10ms/step - loss: 0.2856 - accuracy: 0.9120 - val_loss: 0.0756 - val_accuracy: 0.9911\n",
      "Epoch 69/100\n",
      "134/134 [==============================] - 1s 11ms/step - loss: 0.2871 - accuracy: 0.9151 - val_loss: 0.0765 - val_accuracy: 0.9822\n",
      "Epoch 70/100\n",
      "134/134 [==============================] - 1s 11ms/step - loss: 0.2930 - accuracy: 0.9118 - val_loss: 0.0598 - val_accuracy: 0.9733\n",
      "Epoch 71/100\n",
      "134/134 [==============================] - 1s 11ms/step - loss: 0.2699 - accuracy: 0.9230 - val_loss: 0.0919 - val_accuracy: 0.9733\n",
      "Epoch 72/100\n",
      "134/134 [==============================] - 1s 11ms/step - loss: 0.2977 - accuracy: 0.9099 - val_loss: 0.0666 - val_accuracy: 0.9822\n",
      "Epoch 73/100\n",
      "134/134 [==============================] - 1s 11ms/step - loss: 0.2852 - accuracy: 0.9179 - val_loss: 0.0572 - val_accuracy: 0.9911\n",
      "Epoch 74/100\n",
      "134/134 [==============================] - 1s 11ms/step - loss: 0.2926 - accuracy: 0.9125 - val_loss: 0.1244 - val_accuracy: 0.9644\n",
      "Epoch 75/100\n",
      "134/134 [==============================] - 1s 10ms/step - loss: 0.2845 - accuracy: 0.9116 - val_loss: 0.1056 - val_accuracy: 0.9822\n",
      "Epoch 76/100\n",
      "134/134 [==============================] - 1s 11ms/step - loss: 0.2749 - accuracy: 0.9146 - val_loss: 0.0839 - val_accuracy: 0.9778\n",
      "Epoch 77/100\n",
      "134/134 [==============================] - 1s 11ms/step - loss: 0.2843 - accuracy: 0.9153 - val_loss: 0.0689 - val_accuracy: 0.9867\n",
      "Epoch 78/100\n",
      "134/134 [==============================] - 1s 10ms/step - loss: 0.2681 - accuracy: 0.9209 - val_loss: 0.0674 - val_accuracy: 0.9689\n",
      "Epoch 79/100\n",
      "134/134 [==============================] - 1s 11ms/step - loss: 0.2674 - accuracy: 0.9142 - val_loss: 0.0595 - val_accuracy: 0.9822\n",
      "Epoch 80/100\n",
      "134/134 [==============================] - 1s 11ms/step - loss: 0.2619 - accuracy: 0.9200 - val_loss: 0.1336 - val_accuracy: 0.9556\n",
      "Epoch 81/100\n",
      "134/134 [==============================] - 1s 11ms/step - loss: 0.2757 - accuracy: 0.9188 - val_loss: 0.1121 - val_accuracy: 0.9689\n",
      "Epoch 82/100\n",
      "134/134 [==============================] - 1s 10ms/step - loss: 0.2848 - accuracy: 0.9200 - val_loss: 0.0918 - val_accuracy: 0.9733\n",
      "Epoch 83/100\n",
      "134/134 [==============================] - 1s 10ms/step - loss: 0.2756 - accuracy: 0.9181 - val_loss: 0.1537 - val_accuracy: 0.9511\n",
      "Epoch 84/100\n",
      "134/134 [==============================] - 1s 11ms/step - loss: 0.2826 - accuracy: 0.9139 - val_loss: 0.0873 - val_accuracy: 0.9778\n",
      "Epoch 85/100\n",
      "134/134 [==============================] - 1s 11ms/step - loss: 0.2693 - accuracy: 0.9195 - val_loss: 0.0887 - val_accuracy: 0.9689\n",
      "Epoch 86/100\n",
      "134/134 [==============================] - 1s 10ms/step - loss: 0.2811 - accuracy: 0.9135 - val_loss: 0.0779 - val_accuracy: 0.9867\n",
      "Epoch 87/100\n",
      "134/134 [==============================] - 1s 11ms/step - loss: 0.2593 - accuracy: 0.9177 - val_loss: 0.0848 - val_accuracy: 0.9778\n",
      "Epoch 88/100\n",
      "134/134 [==============================] - 1s 10ms/step - loss: 0.2614 - accuracy: 0.9172 - val_loss: 0.0646 - val_accuracy: 0.9778\n",
      "Epoch 89/100\n",
      "134/134 [==============================] - 1s 11ms/step - loss: 0.2681 - accuracy: 0.9186 - val_loss: 0.1025 - val_accuracy: 0.9689\n",
      "Epoch 90/100\n",
      "134/134 [==============================] - 1s 11ms/step - loss: 0.2776 - accuracy: 0.9142 - val_loss: 0.0720 - val_accuracy: 0.9733\n",
      "Epoch 91/100\n",
      "134/134 [==============================] - 1s 11ms/step - loss: 0.2840 - accuracy: 0.9120 - val_loss: 0.0700 - val_accuracy: 0.9733\n",
      "Epoch 92/100\n",
      "134/134 [==============================] - 1s 11ms/step - loss: 0.2675 - accuracy: 0.9223 - val_loss: 0.0807 - val_accuracy: 0.9822\n",
      "Epoch 93/100\n",
      "134/134 [==============================] - 1s 11ms/step - loss: 0.2794 - accuracy: 0.9139 - val_loss: 0.0703 - val_accuracy: 0.9733\n",
      "Epoch 94/100\n",
      "134/134 [==============================] - 1s 11ms/step - loss: 0.2615 - accuracy: 0.9240 - val_loss: 0.0826 - val_accuracy: 0.9689\n",
      "Epoch 95/100\n",
      "134/134 [==============================] - 1s 11ms/step - loss: 0.2596 - accuracy: 0.9212 - val_loss: 0.1000 - val_accuracy: 0.9733\n",
      "Epoch 96/100\n",
      "134/134 [==============================] - 1s 11ms/step - loss: 0.2500 - accuracy: 0.9223 - val_loss: 0.0491 - val_accuracy: 0.9867\n",
      "Epoch 97/100\n",
      "134/134 [==============================] - 1s 10ms/step - loss: 0.2663 - accuracy: 0.9205 - val_loss: 0.0994 - val_accuracy: 0.9733\n",
      "Epoch 98/100\n",
      "134/134 [==============================] - 1s 11ms/step - loss: 0.2500 - accuracy: 0.9240 - val_loss: 0.0788 - val_accuracy: 0.9733\n",
      "Epoch 99/100\n",
      "134/134 [==============================] - 1s 11ms/step - loss: 0.2555 - accuracy: 0.9221 - val_loss: 0.0774 - val_accuracy: 0.9733\n",
      "Epoch 100/100\n",
      "134/134 [==============================] - 1s 11ms/step - loss: 0.2621 - accuracy: 0.9207 - val_loss: 0.0791 - val_accuracy: 0.9778\n"
     ]
    }
   ],
   "source": [
    "history = model.fit(\n",
    "    datagen.flow(X_train, y_train, batch_size=32),\n",
    "    validation_data=datagen.flow(X_valid, y_valid),\n",
    "    epochs=100)"
   ]
  },
  {
   "cell_type": "code",
   "execution_count": 21,
   "metadata": {
    "execution": {
     "iopub.execute_input": "2022-04-18T14:40:32.582976Z",
     "iopub.status.busy": "2022-04-18T14:40:32.582581Z",
     "iopub.status.idle": "2022-04-18T14:40:32.588798Z",
     "shell.execute_reply": "2022-04-18T14:40:32.587443Z",
     "shell.execute_reply.started": "2022-04-18T14:40:32.582930Z"
    }
   },
   "outputs": [],
   "source": [
    "test_dir = pathlib.Path(TEST_PATH)"
   ]
  },
  {
   "cell_type": "code",
   "execution_count": 22,
   "metadata": {
    "execution": {
     "iopub.execute_input": "2022-04-18T14:40:32.591697Z",
     "iopub.status.busy": "2022-04-18T14:40:32.591148Z",
     "iopub.status.idle": "2022-04-18T14:40:32.746317Z",
     "shell.execute_reply": "2022-04-18T14:40:32.745011Z",
     "shell.execute_reply.started": "2022-04-18T14:40:32.591470Z"
    }
   },
   "outputs": [
    {
     "name": "stdout",
     "output_type": "stream",
     "text": [
      "100 100\n",
      "100 200\n",
      "100 300\n",
      "100 400\n",
      "100 500\n",
      "100 600\n",
      "100 700\n",
      "100 800\n",
      "100 900\n"
     ]
    }
   ],
   "source": [
    "dfs = []\n",
    "total = 0\n",
    "\n",
    "for i in range(1,10):\n",
    "    image_path = pd.Series(list(test_dir.glob(f'{i}/*'))).astype(str)\n",
    "    \n",
    "    labels = pd.Series(np.full((len(image_path)), i))\n",
    "    \n",
    "    total += len(image_path)\n",
    "    print(len(image_path), total)\n",
    "    \n",
    "    dfs.append(pd.concat([image_path, labels], axis=1))"
   ]
  },
  {
   "cell_type": "code",
   "execution_count": 23,
   "metadata": {
    "execution": {
     "iopub.execute_input": "2022-04-18T14:40:32.749958Z",
     "iopub.status.busy": "2022-04-18T14:40:32.749509Z",
     "iopub.status.idle": "2022-04-18T14:40:32.764114Z",
     "shell.execute_reply": "2022-04-18T14:40:32.762829Z",
     "shell.execute_reply.started": "2022-04-18T14:40:32.749911Z"
    }
   },
   "outputs": [],
   "source": [
    "test_df = pd.concat(dfs, axis=0, ignore_index=True)\n",
    "test_df.columns = ['image_path', 'label']"
   ]
  },
  {
   "cell_type": "code",
   "execution_count": 24,
   "metadata": {
    "execution": {
     "iopub.execute_input": "2022-04-18T15:29:08.518958Z",
     "iopub.status.busy": "2022-04-18T15:29:08.518592Z",
     "iopub.status.idle": "2022-04-18T15:29:10.450449Z",
     "shell.execute_reply": "2022-04-18T15:29:10.449362Z",
     "shell.execute_reply.started": "2022-04-18T15:29:08.518925Z"
    }
   },
   "outputs": [
    {
     "name": "stdout",
     "output_type": "stream",
     "text": [
      "test_full_set.shape => (900, 54, 20, 1)\n",
      "test_full_labels.shape => (900,)\n"
     ]
    }
   ],
   "source": [
    "test_full_labels = test_df['label'].values\n",
    "test_full_set = np.empty((900, new_image_height, new_image_width, 1), dtype=np.float32)\n",
    "for idx, path in enumerate(test_df['image_path']):\n",
    "    img = cv2.imread(path, -1)\n",
    "    img = cv2.resize(img, (new_image_width, new_image_height), interpolation=cv2.INTER_NEAREST)\n",
    "    \n",
    "    opening = cv2.morphologyEx(img, cv2.MORPH_OPEN, kernel)\n",
    "    closing = cv2.morphologyEx(opening, cv2.MORPH_CLOSE, kernel)\n",
    "    final = cv2.morphologyEx(closing, cv2.MORPH_OPEN, kernel)\n",
    "\n",
    "    test_full_set[idx] = final.reshape(new_image_height, new_image_width, 1)\n",
    "    \n",
    "print('test_full_set.shape =>', test_full_set.shape)\n",
    "print('test_full_labels.shape =>', test_full_labels.shape)"
   ]
  },
  {
   "cell_type": "code",
   "execution_count": 33,
   "metadata": {
    "execution": {
     "iopub.execute_input": "2022-04-18T15:29:12.963868Z",
     "iopub.status.busy": "2022-04-18T15:29:12.963152Z",
     "iopub.status.idle": "2022-04-18T15:29:13.144871Z",
     "shell.execute_reply": "2022-04-18T15:29:13.143893Z",
     "shell.execute_reply.started": "2022-04-18T15:29:12.963835Z"
    }
   },
   "outputs": [],
   "source": [
    "y_pred = np.argmax(model.predict(test_full_set), axis=-1)"
   ]
  },
  {
   "cell_type": "code",
   "execution_count": 34,
   "metadata": {
    "execution": {
     "iopub.execute_input": "2022-04-18T15:29:14.254691Z",
     "iopub.status.busy": "2022-04-18T15:29:14.254124Z",
     "iopub.status.idle": "2022-04-18T15:29:14.260602Z",
     "shell.execute_reply": "2022-04-18T15:29:14.259644Z",
     "shell.execute_reply.started": "2022-04-18T15:29:14.254656Z"
    }
   },
   "outputs": [],
   "source": [
    "test_df['pred'] = y_pred"
   ]
  },
  {
   "cell_type": "code",
   "execution_count": 35,
   "metadata": {
    "execution": {
     "iopub.execute_input": "2022-04-18T15:29:15.277671Z",
     "iopub.status.busy": "2022-04-18T15:29:15.276989Z",
     "iopub.status.idle": "2022-04-18T15:29:15.285565Z",
     "shell.execute_reply": "2022-04-18T15:29:15.283177Z",
     "shell.execute_reply.started": "2022-04-18T15:29:15.277622Z"
    }
   },
   "outputs": [],
   "source": [
    "misses = test_df[test_df['label'] != test_df['pred']]"
   ]
  },
  {
   "cell_type": "code",
   "execution_count": 36,
   "metadata": {
    "execution": {
     "iopub.execute_input": "2022-04-18T15:29:15.993146Z",
     "iopub.status.busy": "2022-04-18T15:29:15.992061Z",
     "iopub.status.idle": "2022-04-18T15:29:16.008032Z",
     "shell.execute_reply": "2022-04-18T15:29:16.006811Z",
     "shell.execute_reply.started": "2022-04-18T15:29:15.993098Z"
    }
   },
   "outputs": [
    {
     "data": {
      "text/html": [
       "<div>\n",
       "<style scoped>\n",
       "    .dataframe tbody tr th:only-of-type {\n",
       "        vertical-align: middle;\n",
       "    }\n",
       "\n",
       "    .dataframe tbody tr th {\n",
       "        vertical-align: top;\n",
       "    }\n",
       "\n",
       "    .dataframe thead th {\n",
       "        text-align: right;\n",
       "    }\n",
       "</style>\n",
       "<table border=\"1\" class=\"dataframe\">\n",
       "  <thead>\n",
       "    <tr style=\"text-align: right;\">\n",
       "      <th></th>\n",
       "      <th>image_path</th>\n",
       "      <th>label</th>\n",
       "      <th>pred</th>\n",
       "    </tr>\n",
       "  </thead>\n",
       "  <tbody>\n",
       "    <tr>\n",
       "      <th>69</th>\n",
       "      <td>../data/raw/test/1/vaxalpr_111AAA_20201115_142...</td>\n",
       "      <td>1</td>\n",
       "      <td>2</td>\n",
       "    </tr>\n",
       "    <tr>\n",
       "      <th>121</th>\n",
       "      <td>../data/raw/test/2/vaxalpr_278GSA_20201115_151...</td>\n",
       "      <td>2</td>\n",
       "      <td>3</td>\n",
       "    </tr>\n",
       "    <tr>\n",
       "      <th>157</th>\n",
       "      <td>../data/raw/test/2/vaxalpr_214AYT_20201113_111...</td>\n",
       "      <td>2</td>\n",
       "      <td>3</td>\n",
       "    </tr>\n",
       "    <tr>\n",
       "      <th>218</th>\n",
       "      <td>../data/raw/test/3/vaxalpr_347ATH_20201115_130...</td>\n",
       "      <td>3</td>\n",
       "      <td>4</td>\n",
       "    </tr>\n",
       "    <tr>\n",
       "      <th>370</th>\n",
       "      <td>../data/raw/test/4/vaxalpr_214AYT_20201113_111...</td>\n",
       "      <td>4</td>\n",
       "      <td>9</td>\n",
       "    </tr>\n",
       "    <tr>\n",
       "      <th>593</th>\n",
       "      <td>../data/raw/test/6/vaxalpr_856ETC_20201114_124...</td>\n",
       "      <td>6</td>\n",
       "      <td>9</td>\n",
       "    </tr>\n",
       "    <tr>\n",
       "      <th>818</th>\n",
       "      <td>../data/raw/test/9/vaxalpr_593DFT_20201111_120...</td>\n",
       "      <td>9</td>\n",
       "      <td>6</td>\n",
       "    </tr>\n",
       "    <tr>\n",
       "      <th>882</th>\n",
       "      <td>../data/raw/test/9/vaxalpr_849GSA_20201111_143...</td>\n",
       "      <td>9</td>\n",
       "      <td>6</td>\n",
       "    </tr>\n",
       "  </tbody>\n",
       "</table>\n",
       "</div>"
      ],
      "text/plain": [
       "                                            image_path  label  pred\n",
       "69   ../data/raw/test/1/vaxalpr_111AAA_20201115_142...      1     2\n",
       "121  ../data/raw/test/2/vaxalpr_278GSA_20201115_151...      2     3\n",
       "157  ../data/raw/test/2/vaxalpr_214AYT_20201113_111...      2     3\n",
       "218  ../data/raw/test/3/vaxalpr_347ATH_20201115_130...      3     4\n",
       "370  ../data/raw/test/4/vaxalpr_214AYT_20201113_111...      4     9\n",
       "593  ../data/raw/test/6/vaxalpr_856ETC_20201114_124...      6     9\n",
       "818  ../data/raw/test/9/vaxalpr_593DFT_20201111_120...      9     6\n",
       "882  ../data/raw/test/9/vaxalpr_849GSA_20201111_143...      9     6"
      ]
     },
     "execution_count": 36,
     "metadata": {},
     "output_type": "execute_result"
    }
   ],
   "source": [
    "misses"
   ]
  },
  {
   "cell_type": "code",
   "execution_count": 37,
   "metadata": {
    "execution": {
     "iopub.execute_input": "2022-04-18T15:29:19.027917Z",
     "iopub.status.busy": "2022-04-18T15:29:19.027472Z",
     "iopub.status.idle": "2022-04-18T15:29:22.112436Z",
     "shell.execute_reply": "2022-04-18T15:29:22.111432Z",
     "shell.execute_reply.started": "2022-04-18T15:29:19.027870Z"
    }
   },
   "outputs": [
    {
     "name": "stdout",
     "output_type": "stream",
     "text": [
      "label:  1 , pred:  2\n"
     ]
    },
    {
     "data": {
      "image/png": "[encoded data removed]",
      "text/plain": [
       "<Figure size 640x480 with 1 Axes>"
      ]
     },
     "metadata": {},
     "output_type": "display_data"
    },
    {
     "name": "stdout",
     "output_type": "stream",
     "text": [
      "label:  2 , pred:  3\n"
     ]
    },
    {
     "data": {
      "image/png": "[encoded data removed]",
      "text/plain": [
       "<Figure size 640x480 with 1 Axes>"
      ]
     },
     "metadata": {},
     "output_type": "display_data"
    },
    {
     "name": "stdout",
     "output_type": "stream",
     "text": [
      "label:  2 , pred:  3\n"
     ]
    },
    {
     "data": {
      "image/png": "[encoded data removed]",
      "text/plain": [
       "<Figure size 640x480 with 1 Axes>"
      ]
     },
     "metadata": {},
     "output_type": "display_data"
    },
    {
     "name": "stdout",
     "output_type": "stream",
     "text": [
      "label:  3 , pred:  4\n"
     ]
    },
    {
     "data": {
      "image/png": "[encoded data removed]",
      "text/plain": [
       "<Figure size 640x480 with 1 Axes>"
      ]
     },
     "metadata": {},
     "output_type": "display_data"
    },
    {
     "name": "stdout",
     "output_type": "stream",
     "text": [
      "label:  4 , pred:  9\n"
     ]
    },
    {
     "data": {
      "image/png": "[encoded data removed]",
      "text/plain": [
       "<Figure size 640x480 with 1 Axes>"
      ]
     },
     "metadata": {},
     "output_type": "display_data"
    },
    {
     "name": "stdout",
     "output_type": "stream",
     "text": [
      "label:  6 , pred:  9\n"
     ]
    },
    {
     "data": {
      "image/png": "[encoded data removed]",
      "text/plain": [
       "<Figure size 640x480 with 1 Axes>"
      ]
     },
     "metadata": {},
     "output_type": "display_data"
    },
    {
     "name": "stdout",
     "output_type": "stream",
     "text": [
      "label:  9 , pred:  6\n"
     ]
    },
    {
     "data": {
      "image/png": "[encoded data removed]",
      "text/plain": [
       "<Figure size 640x480 with 1 Axes>"
      ]
     },
     "metadata": {},
     "output_type": "display_data"
    },
    {
     "name": "stdout",
     "output_type": "stream",
     "text": [
      "label:  9 , pred:  6\n"
     ]
    },
    {
     "data": {
      "image/png": "[encoded data removed]",
      "text/plain": [
       "<Figure size 640x480 with 1 Axes>"
      ]
     },
     "metadata": {},
     "output_type": "display_data"
    }
   ],
   "source": [
    "for i in range(len(misses)):\n",
    "    img = plt.imread(misses.iloc[i][0])\n",
    "    plt.imshow(img)\n",
    "    print('label: ', misses.iloc[i][1], ', pred: ', misses.iloc[i][2])\n",
    "    plt.show()"
   ]
  },
  {
   "cell_type": "code",
   "execution_count": null,
   "metadata": {},
   "outputs": [],
   "source": []
  }
 ],
 "metadata": {
  "kernelspec": {
   "display_name": "Python 3",
   "language": "python",
   "name": "python3"
  },
  "language_info": {
   "codemirror_mode": {
    "name": "ipython",
    "version": 3
   },
   "file_extension": ".py",
   "mimetype": "text/x-python",
   "name": "python",
   "nbconvert_exporter": "python",
   "pygments_lexer": "ipython3",
   "version": "3.8.10"
  }
 },
 "nbformat": 4,
 "nbformat_minor": 4
}
